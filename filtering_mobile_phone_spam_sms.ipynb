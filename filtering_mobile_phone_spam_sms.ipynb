{
 "cells": [
  {
   "cell_type": "markdown",
   "id": "3dc60381",
   "metadata": {},
   "source": [
    "### Filtering mobile phone spam sms uning Naive Bayes Algorithm"
   ]
  },
  {
   "cell_type": "markdown",
   "id": "568b8c0d",
   "metadata": {},
   "source": [
    "##### Read the dataset"
   ]
  },
  {
   "cell_type": "code",
   "execution_count": 4,
   "id": "6c1496d3",
   "metadata": {},
   "outputs": [
    {
     "data": {
      "text/html": [
       "<table>\n",
       "<thead><tr><th scope=col>type</th><th scope=col>text</th></tr></thead>\n",
       "<tbody>\n",
       "\t<tr><td>ham                                                                                                                                                              </td><td>Hope you are having a good week. Just checking in                                                                                                                </td></tr>\n",
       "\t<tr><td>ham                                                                                                                                                              </td><td>K..give back my thanks.                                                                                                                                          </td></tr>\n",
       "\t<tr><td>ham                                                                                                                                                              </td><td>Am also doing in cbe only. But have to pay.                                                                                                                      </td></tr>\n",
       "\t<tr><td>spam                                                                                                                                                             </td><td>complimentary 4 STAR Ibiza Holiday or Â£10,000 cash needs your URGENT collection. 09066364349 NOW from Landline not to lose out! Box434SK38WP150PPM18+           </td></tr>\n",
       "\t<tr><td>spam                                                                                                                                                             </td><td>okmail: Dear Dave this is your final notice to collect your 4* Tenerife Holiday or #5000 CASH award! Call 09061743806 from landline. TCs SAE Box326 CW25WX 150ppm</td></tr>\n",
       "\t<tr><td>ham                                                                                                                                                              </td><td>Aiya we discuss later lar... Pick u up at 4 is it?                                                                                                               </td></tr>\n",
       "</tbody>\n",
       "</table>\n"
      ],
      "text/latex": [
       "\\begin{tabular}{r|ll}\n",
       " type & text\\\\\n",
       "\\hline\n",
       "\t ham                                                                                                                                                               & Hope you are having a good week. Just checking in                                                                                                                \\\\\n",
       "\t ham                                                                                                                                                               & K..give back my thanks.                                                                                                                                          \\\\\n",
       "\t ham                                                                                                                                                               & Am also doing in cbe only. But have to pay.                                                                                                                      \\\\\n",
       "\t spam                                                                                                                                                              & complimentary 4 STAR Ibiza Holiday or Â£10,000 cash needs your URGENT collection. 09066364349 NOW from Landline not to lose out! Box434SK38WP150PPM18+           \\\\\n",
       "\t spam                                                                                                                                                                & okmail: Dear Dave this is your final notice to collect your 4* Tenerife Holiday or \\#5000 CASH award! Call 09061743806 from landline. TCs SAE Box326 CW25WX 150ppm\\\\\n",
       "\t ham                                                                                                                                                               & Aiya we discuss later lar... Pick u up at 4 is it?                                                                                                               \\\\\n",
       "\\end{tabular}\n"
      ],
      "text/markdown": [
       "\n",
       "| type | text |\n",
       "|---|---|\n",
       "| ham                                                                                                                                                               | Hope you are having a good week. Just checking in                                                                                                                 |\n",
       "| ham                                                                                                                                                               | K..give back my thanks.                                                                                                                                           |\n",
       "| ham                                                                                                                                                               | Am also doing in cbe only. But have to pay.                                                                                                                       |\n",
       "| spam                                                                                                                                                              | complimentary 4 STAR Ibiza Holiday or Â£10,000 cash needs your URGENT collection. 09066364349 NOW from Landline not to lose out! Box434SK38WP150PPM18+            |\n",
       "| spam                                                                                                                                                              | okmail: Dear Dave this is your final notice to collect your 4* Tenerife Holiday or #5000 CASH award! Call 09061743806 from landline. TCs SAE Box326 CW25WX 150ppm |\n",
       "| ham                                                                                                                                                               | Aiya we discuss later lar... Pick u up at 4 is it?                                                                                                                |\n",
       "\n"
      ],
      "text/plain": [
       "  type\n",
       "1 ham \n",
       "2 ham \n",
       "3 ham \n",
       "4 spam\n",
       "5 spam\n",
       "6 ham \n",
       "  text                                                                                                                                                             \n",
       "1 Hope you are having a good week. Just checking in                                                                                                                \n",
       "2 K..give back my thanks.                                                                                                                                          \n",
       "3 Am also doing in cbe only. But have to pay.                                                                                                                      \n",
       "4 complimentary 4 STAR Ibiza Holiday or Â£10,000 cash needs your URGENT collection. 09066364349 NOW from Landline not to lose out! Box434SK38WP150PPM18+           \n",
       "5 okmail: Dear Dave this is your final notice to collect your 4* Tenerife Holiday or #5000 CASH award! Call 09061743806 from landline. TCs SAE Box326 CW25WX 150ppm\n",
       "6 Aiya we discuss later lar... Pick u up at 4 is it?                                                                                                               "
      ]
     },
     "metadata": {},
     "output_type": "display_data"
    }
   ],
   "source": [
    "sms_raw <- read.csv(\"sms_spam.csv\", stringsAsFactors = FALSE)\n",
    "head(sms_raw)"
   ]
  },
  {
   "cell_type": "code",
   "execution_count": 5,
   "id": "61da923d",
   "metadata": {},
   "outputs": [
    {
     "name": "stdout",
     "output_type": "stream",
     "text": [
      "'data.frame':\t5559 obs. of  2 variables:\n",
      " $ type: chr  \"ham\" \"ham\" \"ham\" \"spam\" ...\n",
      " $ text: chr  \"Hope you are having a good week. Just checking in\" \"K..give back my thanks.\" \"Am also doing in cbe only. But have to pay.\" \"complimentary 4 STAR Ibiza Holiday or Â£10,000 cash needs your URGENT collection. 09066364349 NOW from Landline\"| __truncated__ ...\n"
     ]
    }
   ],
   "source": [
    "str(sms_raw)"
   ]
  },
  {
   "cell_type": "code",
   "execution_count": 6,
   "id": "20926ff4",
   "metadata": {},
   "outputs": [],
   "source": [
    "# type variable converted chr to factor\n",
    "sms_raw$type <- factor(x = sms_raw$type)"
   ]
  },
  {
   "cell_type": "code",
   "execution_count": 8,
   "id": "c5afe085",
   "metadata": {},
   "outputs": [
    {
     "name": "stdout",
     "output_type": "stream",
     "text": [
      " Factor w/ 2 levels \"ham\",\"spam\": 1 1 1 2 2 1 1 1 2 1 ...\n"
     ]
    }
   ],
   "source": [
    "str(sms_raw$type)"
   ]
  },
  {
   "cell_type": "code",
   "execution_count": 9,
   "id": "51fed4d3",
   "metadata": {},
   "outputs": [
    {
     "data": {
      "text/plain": [
       "\n",
       " ham spam \n",
       "4812  747 "
      ]
     },
     "metadata": {},
     "output_type": "display_data"
    }
   ],
   "source": [
    "table(sms_raw$type)"
   ]
  },
  {
   "cell_type": "code",
   "execution_count": 18,
   "id": "63bec6a0",
   "metadata": {},
   "outputs": [
    {
     "data": {
      "text/plain": [
       "\n",
       " ham spam \n",
       "86.6 13.4 "
      ]
     },
     "metadata": {},
     "output_type": "display_data"
    }
   ],
   "source": [
    "round(prop.table(table(sms_raw$type)) * 100, digits = 1)"
   ]
  },
  {
   "cell_type": "markdown",
   "id": "ed907df3",
   "metadata": {},
   "source": [
    "#### Data preparation – processing text data for analysis"
   ]
  },
  {
   "cell_type": "code",
   "execution_count": 19,
   "id": "4c7baa20",
   "metadata": {},
   "outputs": [
    {
     "name": "stderr",
     "output_type": "stream",
     "text": [
      "Installing package into 'C:/Users/Pappu/Documents/R/win-library/3.6'\n",
      "(as 'lib' is unspecified)\n"
     ]
    },
    {
     "name": "stdout",
     "output_type": "stream",
     "text": [
      "package 'tm' successfully unpacked and MD5 sums checked\n",
      "\n",
      "The downloaded binary packages are in\n",
      "\tC:\\Users\\Pappu\\AppData\\Local\\Temp\\RtmpaoIivk\\downloaded_packages\n"
     ]
    }
   ],
   "source": [
    "# Install the text mining package\n",
    "install.packages(\"tm\")"
   ]
  },
  {
   "cell_type": "code",
   "execution_count": 20,
   "id": "aaae49dd",
   "metadata": {},
   "outputs": [
    {
     "name": "stderr",
     "output_type": "stream",
     "text": [
      "Warning message:\n",
      "\"package 'tm' was built under R version 3.6.3\"Loading required package: NLP\n",
      "Warning message:\n",
      "\"package 'NLP' was built under R version 3.6.3\""
     ]
    }
   ],
   "source": [
    "library(tm)"
   ]
  },
  {
   "cell_type": "code",
   "execution_count": 21,
   "id": "0105915d",
   "metadata": {},
   "outputs": [],
   "source": [
    "# Creating corpus\n",
    "sms_corpus <- Corpus(VectorSource(sms_raw$text))\n"
   ]
  },
  {
   "cell_type": "code",
   "execution_count": 27,
   "id": "c5bbce9c",
   "metadata": {},
   "outputs": [
    {
     "name": "stdout",
     "output_type": "stream",
     "text": [
      "<<SimpleCorpus>>\n",
      "Metadata:  corpus specific: 1, document level (indexed): 0\n",
      "Content:  documents: 5559\n"
     ]
    }
   ],
   "source": [
    "print(sms_corpus)"
   ]
  },
  {
   "cell_type": "code",
   "execution_count": 31,
   "id": "0d2b281e",
   "metadata": {},
   "outputs": [
    {
     "name": "stdout",
     "output_type": "stream",
     "text": [
      "<<SimpleCorpus>>\n",
      "Metadata:  corpus specific: 1, document level (indexed): 0\n",
      "Content:  documents: 3\n",
      "\n",
      "[1] Hope you are having a good week. Just checking in\n",
      "[2] K..give back my thanks.                          \n",
      "[3] Am also doing in cbe only. But have to pay.      \n"
     ]
    }
   ],
   "source": [
    "# See the content of the corpus\n",
    "inspect(sms_corpus[1:3])"
   ]
  },
  {
   "cell_type": "code",
   "execution_count": 32,
   "id": "2515eb28",
   "metadata": {},
   "outputs": [
    {
     "name": "stderr",
     "output_type": "stream",
     "text": [
      "Warning message in tm_map.SimpleCorpus(sms_corpus, tolower):\n",
      "\"transformation drops documents\""
     ]
    }
   ],
   "source": [
    "# Cleaning such as punctuations and other character etc.\n",
    "# Convert to lower case\n",
    "corpus_clean <- tm_map(sms_corpus, tolower)"
   ]
  },
  {
   "cell_type": "code",
   "execution_count": 34,
   "id": "b22e2e05",
   "metadata": {},
   "outputs": [
    {
     "name": "stdout",
     "output_type": "stream",
     "text": [
      "<<SimpleCorpus>>\n",
      "Metadata:  corpus specific: 1, document level (indexed): 0\n",
      "Content:  documents: 3\n",
      "\n",
      "[1] hope you are having a good week. just checking in\n",
      "[2] k..give back my thanks.                          \n",
      "[3] am also doing in cbe only. but have to pay.      \n"
     ]
    }
   ],
   "source": [
    "inspect(corpus_clean[1:3])"
   ]
  },
  {
   "cell_type": "code",
   "execution_count": 35,
   "id": "f83b2137",
   "metadata": {},
   "outputs": [
    {
     "name": "stderr",
     "output_type": "stream",
     "text": [
      "Warning message in tm_map.SimpleCorpus(corpus_clean, removeNumbers):\n",
      "\"transformation drops documents\""
     ]
    }
   ],
   "source": [
    "# Remove any numbers\n",
    "corpus_clean <- tm_map(corpus_clean, removeNumbers)"
   ]
  },
  {
   "cell_type": "code",
   "execution_count": 39,
   "id": "47d6e3ff",
   "metadata": {},
   "outputs": [
    {
     "name": "stdout",
     "output_type": "stream",
     "text": [
      "<<SimpleCorpus>>\n",
      "Metadata:  corpus specific: 1, document level (indexed): 0\n",
      "Content:  documents: 4\n",
      "\n",
      "[1] hope you are having a good week. just checking in                                                                          \n",
      "[2] k..give back my thanks.                                                                                                    \n",
      "[3] am also doing in cbe only. but have to pay.                                                                                \n",
      "[4] complimentary  star ibiza holiday or â£, cash needs your urgent collection.  now from landline not to lose out! boxskwpppm+\n"
     ]
    }
   ],
   "source": [
    "inspect(corpus_clean[1:4])"
   ]
  },
  {
   "cell_type": "code",
   "execution_count": 41,
   "id": "7cef8f93",
   "metadata": {},
   "outputs": [],
   "source": [
    "# use stopwords() function to remove filler words such as um, uh, er, ah, like, okay, right, and you know"
   ]
  },
  {
   "cell_type": "code",
   "execution_count": 45,
   "id": "592b8bd7",
   "metadata": {},
   "outputs": [
    {
     "data": {
      "text/html": [
       "<ol class=list-inline>\n",
       "\t<li>'i'</li>\n",
       "\t<li>'me'</li>\n",
       "\t<li>'my'</li>\n",
       "\t<li>'myself'</li>\n",
       "\t<li>'we'</li>\n",
       "\t<li>'our'</li>\n",
       "\t<li>'ours'</li>\n",
       "\t<li>'ourselves'</li>\n",
       "\t<li>'you'</li>\n",
       "\t<li>'your'</li>\n",
       "\t<li>'yours'</li>\n",
       "\t<li>'yourself'</li>\n",
       "\t<li>'yourselves'</li>\n",
       "\t<li>'he'</li>\n",
       "\t<li>'him'</li>\n",
       "\t<li>'his'</li>\n",
       "\t<li>'himself'</li>\n",
       "\t<li>'she'</li>\n",
       "\t<li>'her'</li>\n",
       "\t<li>'hers'</li>\n",
       "\t<li>'herself'</li>\n",
       "\t<li>'it'</li>\n",
       "\t<li>'its'</li>\n",
       "\t<li>'itself'</li>\n",
       "\t<li>'they'</li>\n",
       "\t<li>'them'</li>\n",
       "\t<li>'their'</li>\n",
       "\t<li>'theirs'</li>\n",
       "\t<li>'themselves'</li>\n",
       "\t<li>'what'</li>\n",
       "\t<li>'which'</li>\n",
       "\t<li>'who'</li>\n",
       "\t<li>'whom'</li>\n",
       "\t<li>'this'</li>\n",
       "\t<li>'that'</li>\n",
       "\t<li>'these'</li>\n",
       "\t<li>'those'</li>\n",
       "\t<li>'am'</li>\n",
       "\t<li>'is'</li>\n",
       "\t<li>'are'</li>\n",
       "\t<li>'was'</li>\n",
       "\t<li>'were'</li>\n",
       "\t<li>'be'</li>\n",
       "\t<li>'been'</li>\n",
       "\t<li>'being'</li>\n",
       "\t<li>'have'</li>\n",
       "\t<li>'has'</li>\n",
       "\t<li>'had'</li>\n",
       "\t<li>'having'</li>\n",
       "\t<li>'do'</li>\n",
       "</ol>\n"
      ],
      "text/latex": [
       "\\begin{enumerate*}\n",
       "\\item 'i'\n",
       "\\item 'me'\n",
       "\\item 'my'\n",
       "\\item 'myself'\n",
       "\\item 'we'\n",
       "\\item 'our'\n",
       "\\item 'ours'\n",
       "\\item 'ourselves'\n",
       "\\item 'you'\n",
       "\\item 'your'\n",
       "\\item 'yours'\n",
       "\\item 'yourself'\n",
       "\\item 'yourselves'\n",
       "\\item 'he'\n",
       "\\item 'him'\n",
       "\\item 'his'\n",
       "\\item 'himself'\n",
       "\\item 'she'\n",
       "\\item 'her'\n",
       "\\item 'hers'\n",
       "\\item 'herself'\n",
       "\\item 'it'\n",
       "\\item 'its'\n",
       "\\item 'itself'\n",
       "\\item 'they'\n",
       "\\item 'them'\n",
       "\\item 'their'\n",
       "\\item 'theirs'\n",
       "\\item 'themselves'\n",
       "\\item 'what'\n",
       "\\item 'which'\n",
       "\\item 'who'\n",
       "\\item 'whom'\n",
       "\\item 'this'\n",
       "\\item 'that'\n",
       "\\item 'these'\n",
       "\\item 'those'\n",
       "\\item 'am'\n",
       "\\item 'is'\n",
       "\\item 'are'\n",
       "\\item 'was'\n",
       "\\item 'were'\n",
       "\\item 'be'\n",
       "\\item 'been'\n",
       "\\item 'being'\n",
       "\\item 'have'\n",
       "\\item 'has'\n",
       "\\item 'had'\n",
       "\\item 'having'\n",
       "\\item 'do'\n",
       "\\end{enumerate*}\n"
      ],
      "text/markdown": [
       "1. 'i'\n",
       "2. 'me'\n",
       "3. 'my'\n",
       "4. 'myself'\n",
       "5. 'we'\n",
       "6. 'our'\n",
       "7. 'ours'\n",
       "8. 'ourselves'\n",
       "9. 'you'\n",
       "10. 'your'\n",
       "11. 'yours'\n",
       "12. 'yourself'\n",
       "13. 'yourselves'\n",
       "14. 'he'\n",
       "15. 'him'\n",
       "16. 'his'\n",
       "17. 'himself'\n",
       "18. 'she'\n",
       "19. 'her'\n",
       "20. 'hers'\n",
       "21. 'herself'\n",
       "22. 'it'\n",
       "23. 'its'\n",
       "24. 'itself'\n",
       "25. 'they'\n",
       "26. 'them'\n",
       "27. 'their'\n",
       "28. 'theirs'\n",
       "29. 'themselves'\n",
       "30. 'what'\n",
       "31. 'which'\n",
       "32. 'who'\n",
       "33. 'whom'\n",
       "34. 'this'\n",
       "35. 'that'\n",
       "36. 'these'\n",
       "37. 'those'\n",
       "38. 'am'\n",
       "39. 'is'\n",
       "40. 'are'\n",
       "41. 'was'\n",
       "42. 'were'\n",
       "43. 'be'\n",
       "44. 'been'\n",
       "45. 'being'\n",
       "46. 'have'\n",
       "47. 'has'\n",
       "48. 'had'\n",
       "49. 'having'\n",
       "50. 'do'\n",
       "\n",
       "\n"
      ],
      "text/plain": [
       " [1] \"i\"          \"me\"         \"my\"         \"myself\"     \"we\"        \n",
       " [6] \"our\"        \"ours\"       \"ourselves\"  \"you\"        \"your\"      \n",
       "[11] \"yours\"      \"yourself\"   \"yourselves\" \"he\"         \"him\"       \n",
       "[16] \"his\"        \"himself\"    \"she\"        \"her\"        \"hers\"      \n",
       "[21] \"herself\"    \"it\"         \"its\"        \"itself\"     \"they\"      \n",
       "[26] \"them\"       \"their\"      \"theirs\"     \"themselves\" \"what\"      \n",
       "[31] \"which\"      \"who\"        \"whom\"       \"this\"       \"that\"      \n",
       "[36] \"these\"      \"those\"      \"am\"         \"is\"         \"are\"       \n",
       "[41] \"was\"        \"were\"       \"be\"         \"been\"       \"being\"     \n",
       "[46] \"have\"       \"has\"        \"had\"        \"having\"     \"do\"        "
      ]
     },
     "metadata": {},
     "output_type": "display_data"
    }
   ],
   "source": [
    "head(stopwords(), 50)"
   ]
  },
  {
   "cell_type": "code",
   "execution_count": 46,
   "id": "71325114",
   "metadata": {},
   "outputs": [
    {
     "name": "stderr",
     "output_type": "stream",
     "text": [
      "Warning message in tm_map.SimpleCorpus(corpus_clean, removeWords, stopwords()):\n",
      "\"transformation drops documents\""
     ]
    }
   ],
   "source": [
    "corpus_clean <- tm_map(corpus_clean, removeWords, stopwords())"
   ]
  },
  {
   "cell_type": "code",
   "execution_count": 47,
   "id": "4852ec5e",
   "metadata": {},
   "outputs": [
    {
     "name": "stdout",
     "output_type": "stream",
     "text": [
      "<<SimpleCorpus>>\n",
      "Metadata:  corpus specific: 1, document level (indexed): 0\n",
      "Content:  documents: 4\n",
      "\n",
      "[1] hope     good week. just checking                                                                        \n",
      "[2] k..give back  thanks.                                                                                    \n",
      "[3]  also   cbe .    pay.                                                                                    \n",
      "[4] complimentary  star ibiza holiday  â£, cash needs  urgent collection.  now  landline   lose ! boxskwpppm+\n"
     ]
    }
   ],
   "source": [
    "inspect(corpus_clean[1:4])"
   ]
  },
  {
   "cell_type": "code",
   "execution_count": 48,
   "id": "5f927496",
   "metadata": {},
   "outputs": [
    {
     "name": "stderr",
     "output_type": "stream",
     "text": [
      "Warning message in tm_map.SimpleCorpus(corpus_clean, removePunctuation):\n",
      "\"transformation drops documents\""
     ]
    }
   ],
   "source": [
    "# Remove punctuation\n",
    "corpus_clean <- tm_map(corpus_clean, removePunctuation)"
   ]
  },
  {
   "cell_type": "code",
   "execution_count": 49,
   "id": "ed51599a",
   "metadata": {},
   "outputs": [
    {
     "name": "stdout",
     "output_type": "stream",
     "text": [
      "<<SimpleCorpus>>\n",
      "Metadata:  corpus specific: 1, document level (indexed): 0\n",
      "Content:  documents: 4\n",
      "\n",
      "[1] hope     good week just checking                                                                     \n",
      "[2] kgive back  thanks                                                                                   \n",
      "[3]  also   cbe     pay                                                                                  \n",
      "[4] complimentary  star ibiza holiday  â£ cash needs  urgent collection  now  landline   lose  boxskwpppm\n"
     ]
    }
   ],
   "source": [
    "inspect(corpus_clean[1:4])"
   ]
  },
  {
   "cell_type": "code",
   "execution_count": 50,
   "id": "802f2ed9",
   "metadata": {},
   "outputs": [
    {
     "name": "stderr",
     "output_type": "stream",
     "text": [
      "Warning message in tm_map.SimpleCorpus(corpus_clean, stripWhitespace):\n",
      "\"transformation drops documents\""
     ]
    }
   ],
   "source": [
    "# remove additional whitespaces that are created due to remove numbers, stopwords, punctuations \n",
    "corpus_clean <- tm_map(corpus_clean, stripWhitespace)"
   ]
  },
  {
   "cell_type": "code",
   "execution_count": 51,
   "id": "9c82bac0",
   "metadata": {},
   "outputs": [
    {
     "name": "stdout",
     "output_type": "stream",
     "text": [
      "<<SimpleCorpus>>\n",
      "Metadata:  corpus specific: 1, document level (indexed): 0\n",
      "Content:  documents: 4\n",
      "\n",
      "[1] hope good week just checking                                                                 \n",
      "[2] kgive back thanks                                                                            \n",
      "[3]  also cbe pay                                                                                \n",
      "[4] complimentary star ibiza holiday â£ cash needs urgent collection now landline lose boxskwpppm\n"
     ]
    }
   ],
   "source": [
    "inspect(corpus_clean[1:4])"
   ]
  },
  {
   "cell_type": "code",
   "execution_count": 56,
   "id": "331bf077",
   "metadata": {},
   "outputs": [],
   "source": [
    "#Creating a sparse matrix to split the messages into individual words\n",
    "sms_dtm <- DocumentTermMatrix(corpus_clean)"
   ]
  },
  {
   "cell_type": "code",
   "execution_count": 58,
   "id": "9558be5c",
   "metadata": {},
   "outputs": [
    {
     "name": "stdout",
     "output_type": "stream",
     "text": [
      "List of 6\n",
      " $ i       : int [1:42627] 1 1 1 1 1 2 2 2 3 3 ...\n",
      " $ j       : int [1:42627] 1 2 3 4 5 6 7 8 9 10 ...\n",
      " $ v       : num [1:42627] 1 1 1 1 1 1 1 1 1 1 ...\n",
      " $ nrow    : int 5559\n",
      " $ ncol    : int 7909\n",
      " $ dimnames:List of 2\n",
      "  ..$ Docs : chr [1:5559] \"1\" \"2\" \"3\" \"4\" ...\n",
      "  ..$ Terms: chr [1:7909] \"checking\" \"good\" \"hope\" \"just\" ...\n",
      " - attr(*, \"class\")= chr [1:2] \"DocumentTermMatrix\" \"simple_triplet_matrix\"\n",
      " - attr(*, \"weighting\")= chr [1:2] \"term frequency\" \"tf\"\n"
     ]
    }
   ],
   "source": [
    "str(sms_dtm)"
   ]
  },
  {
   "cell_type": "markdown",
   "id": "e5d08c65",
   "metadata": {},
   "source": [
    "#### Data preparation crating training and test datasets"
   ]
  },
  {
   "cell_type": "code",
   "execution_count": 60,
   "id": "0c039972",
   "metadata": {},
   "outputs": [],
   "source": [
    "#splitting the raw dataframe\n",
    "sms_raw_train <- sms_raw[1:4169, ]\n",
    "sms_raw_test <- sms_raw[4170:5559, ]"
   ]
  },
  {
   "cell_type": "code",
   "execution_count": 87,
   "id": "b8700859",
   "metadata": {},
   "outputs": [
    {
     "data": {
      "text/html": [
       "<table>\n",
       "<thead><tr><th scope=col>type</th><th scope=col>text</th></tr></thead>\n",
       "<tbody>\n",
       "\t<tr><td>ham                                                                                                                                                              </td><td>Hope you are having a good week. Just checking in                                                                                                                </td></tr>\n",
       "\t<tr><td>ham                                                                                                                                                              </td><td>K..give back my thanks.                                                                                                                                          </td></tr>\n",
       "\t<tr><td>ham                                                                                                                                                              </td><td>Am also doing in cbe only. But have to pay.                                                                                                                      </td></tr>\n",
       "\t<tr><td>spam                                                                                                                                                             </td><td>complimentary 4 STAR Ibiza Holiday or Â£10,000 cash needs your URGENT collection. 09066364349 NOW from Landline not to lose out! Box434SK38WP150PPM18+           </td></tr>\n",
       "\t<tr><td>spam                                                                                                                                                             </td><td>okmail: Dear Dave this is your final notice to collect your 4* Tenerife Holiday or #5000 CASH award! Call 09061743806 from landline. TCs SAE Box326 CW25WX 150ppm</td></tr>\n",
       "\t<tr><td>ham                                                                                                                                                              </td><td>Aiya we discuss later lar... Pick u up at 4 is it?                                                                                                               </td></tr>\n",
       "</tbody>\n",
       "</table>\n"
      ],
      "text/latex": [
       "\\begin{tabular}{r|ll}\n",
       " type & text\\\\\n",
       "\\hline\n",
       "\t ham                                                                                                                                                               & Hope you are having a good week. Just checking in                                                                                                                \\\\\n",
       "\t ham                                                                                                                                                               & K..give back my thanks.                                                                                                                                          \\\\\n",
       "\t ham                                                                                                                                                               & Am also doing in cbe only. But have to pay.                                                                                                                      \\\\\n",
       "\t spam                                                                                                                                                              & complimentary 4 STAR Ibiza Holiday or Â£10,000 cash needs your URGENT collection. 09066364349 NOW from Landline not to lose out! Box434SK38WP150PPM18+           \\\\\n",
       "\t spam                                                                                                                                                                & okmail: Dear Dave this is your final notice to collect your 4* Tenerife Holiday or \\#5000 CASH award! Call 09061743806 from landline. TCs SAE Box326 CW25WX 150ppm\\\\\n",
       "\t ham                                                                                                                                                               & Aiya we discuss later lar... Pick u up at 4 is it?                                                                                                               \\\\\n",
       "\\end{tabular}\n"
      ],
      "text/markdown": [
       "\n",
       "| type | text |\n",
       "|---|---|\n",
       "| ham                                                                                                                                                               | Hope you are having a good week. Just checking in                                                                                                                 |\n",
       "| ham                                                                                                                                                               | K..give back my thanks.                                                                                                                                           |\n",
       "| ham                                                                                                                                                               | Am also doing in cbe only. But have to pay.                                                                                                                       |\n",
       "| spam                                                                                                                                                              | complimentary 4 STAR Ibiza Holiday or Â£10,000 cash needs your URGENT collection. 09066364349 NOW from Landline not to lose out! Box434SK38WP150PPM18+            |\n",
       "| spam                                                                                                                                                              | okmail: Dear Dave this is your final notice to collect your 4* Tenerife Holiday or #5000 CASH award! Call 09061743806 from landline. TCs SAE Box326 CW25WX 150ppm |\n",
       "| ham                                                                                                                                                               | Aiya we discuss later lar... Pick u up at 4 is it?                                                                                                                |\n",
       "\n"
      ],
      "text/plain": [
       "  type\n",
       "1 ham \n",
       "2 ham \n",
       "3 ham \n",
       "4 spam\n",
       "5 spam\n",
       "6 ham \n",
       "  text                                                                                                                                                             \n",
       "1 Hope you are having a good week. Just checking in                                                                                                                \n",
       "2 K..give back my thanks.                                                                                                                                          \n",
       "3 Am also doing in cbe only. But have to pay.                                                                                                                      \n",
       "4 complimentary 4 STAR Ibiza Holiday or Â£10,000 cash needs your URGENT collection. 09066364349 NOW from Landline not to lose out! Box434SK38WP150PPM18+           \n",
       "5 okmail: Dear Dave this is your final notice to collect your 4* Tenerife Holiday or #5000 CASH award! Call 09061743806 from landline. TCs SAE Box326 CW25WX 150ppm\n",
       "6 Aiya we discuss later lar... Pick u up at 4 is it?                                                                                                               "
      ]
     },
     "metadata": {},
     "output_type": "display_data"
    }
   ],
   "source": [
    "head(sms_raw_train)"
   ]
  },
  {
   "cell_type": "code",
   "execution_count": 83,
   "id": "0e1e21cb",
   "metadata": {},
   "outputs": [],
   "source": [
    "#splitting the document-term matrix\n",
    "sms_dtm_train <- sms_dtm[1:4169, ]\n",
    "sms_dtm_test <- sms_dtm[4170:5559, ]"
   ]
  },
  {
   "cell_type": "code",
   "execution_count": 93,
   "id": "242fcff9",
   "metadata": {},
   "outputs": [],
   "source": [
    "#splitting the corpus\n",
    "sms_corpus_train <- corpus_clean[1:4169]\n",
    "sms_corpus_test <- corpus_clean[4170:5559]"
   ]
  },
  {
   "cell_type": "code",
   "execution_count": 97,
   "id": "413d3843",
   "metadata": {},
   "outputs": [
    {
     "name": "stdout",
     "output_type": "stream",
     "text": [
      "<<SimpleCorpus>>\n",
      "Metadata:  corpus specific: 1, document level (indexed): 0\n",
      "Content:  documents: 5\n",
      "\n",
      "[1] hope good week just checking                                                                        \n",
      "[2] kgive back thanks                                                                                   \n",
      "[3]  also cbe pay                                                                                       \n",
      "[4] complimentary star ibiza holiday â£ cash needs urgent collection now landline lose boxskwpppm       \n",
      "[5] okmail dear dave final notice collect tenerife holiday cash award call landline tcs sae box cwwx ppm\n"
     ]
    }
   ],
   "source": [
    "inspect(sms_corpus_train[1:5])"
   ]
  },
  {
   "cell_type": "code",
   "execution_count": 100,
   "id": "b171fdad",
   "metadata": {},
   "outputs": [
    {
     "data": {
      "text/plain": [
       "\n",
       " ham spam \n",
       "86.5 13.5 "
      ]
     },
     "metadata": {},
     "output_type": "display_data"
    }
   ],
   "source": [
    "#confirm that the subsets are representative of the complete set of SMS data\n",
    "round(prop.table(table(sms_raw_train$type)) * 100, digits = 1)"
   ]
  },
  {
   "cell_type": "code",
   "execution_count": 102,
   "id": "a8f8a53b",
   "metadata": {},
   "outputs": [
    {
     "data": {
      "text/plain": [
       "\n",
       " ham spam \n",
       "86.8 13.2 "
      ]
     },
     "metadata": {},
     "output_type": "display_data"
    }
   ],
   "source": [
    "round(prop.table(table(sms_raw_test$type)) * 100, digits=1)"
   ]
  },
  {
   "cell_type": "markdown",
   "id": "e78b5890",
   "metadata": {},
   "source": [
    "##### Both the training data and test data contain about 13 percent spam."
   ]
  },
  {
   "cell_type": "markdown",
   "id": "e17244cb",
   "metadata": {},
   "source": [
    "# Visualizing text data – word clouds"
   ]
  },
  {
   "cell_type": "code",
   "execution_count": 103,
   "id": "8049d0e1",
   "metadata": {},
   "outputs": [
    {
     "name": "stderr",
     "output_type": "stream",
     "text": [
      "Installing package into 'C:/Users/Pappu/Documents/R/win-library/3.6'\n",
      "(as 'lib' is unspecified)\n"
     ]
    },
    {
     "name": "stdout",
     "output_type": "stream",
     "text": [
      "package 'wordcloud' successfully unpacked and MD5 sums checked\n",
      "\n",
      "The downloaded binary packages are in\n",
      "\tC:\\Users\\Pappu\\AppData\\Local\\Temp\\RtmpaoIivk\\downloaded_packages\n"
     ]
    }
   ],
   "source": [
    "# install wordcloud package\n",
    "install.packages(\"wordcloud\")"
   ]
  },
  {
   "cell_type": "code",
   "execution_count": 104,
   "id": "31c687fe",
   "metadata": {},
   "outputs": [
    {
     "name": "stderr",
     "output_type": "stream",
     "text": [
      "Warning message:\n",
      "\"package 'wordcloud' was built under R version 3.6.3\"Loading required package: RColorBrewer\n"
     ]
    }
   ],
   "source": [
    "library(\"wordcloud\")"
   ]
  },
  {
   "cell_type": "code",
   "execution_count": 122,
   "id": "63f49c13",
   "metadata": {},
   "outputs": [
    {
     "data": {
      "image/png": "[encoded data removed]",
      "text/plain": [
       "plot without title"
      ]
     },
     "metadata": {},
     "output_type": "display_data"
    }
   ],
   "source": [
    "wordcloud(sms_corpus_train, min.freq = 40, random.order = FALSE)"
   ]
  },
  {
   "cell_type": "code",
   "execution_count": 126,
   "id": "5c6618fa",
   "metadata": {},
   "outputs": [],
   "source": [
    "# Create subset of the sms_raw_train for the sms type\n",
    "spam <- subset(sms_raw_train, type == \"spam\")\n",
    "ham <- subset(sms_raw_train, type == \"ham\")"
   ]
  },
  {
   "cell_type": "code",
   "execution_count": 144,
   "id": "a84ebcb0",
   "metadata": {},
   "outputs": [
    {
     "name": "stderr",
     "output_type": "stream",
     "text": [
      "Warning message in tm_map.SimpleCorpus(corpus, tm::removePunctuation):\n",
      "\"transformation drops documents\"Warning message in tm_map.SimpleCorpus(corpus, function(x) tm::removeWords(x, tm::stopwords())):\n",
      "\"transformation drops documents\""
     ]
    },
    {
     "data": {
      "image/png": "[encoded data removed]",
      "text/plain": [
       "plot without title"
      ]
     },
     "metadata": {},
     "output_type": "display_data"
    }
   ],
   "source": [
    "wordcloud(spam$text, max.words = 40, scale = c(5, 2))"
   ]
  },
  {
   "cell_type": "code",
   "execution_count": 151,
   "id": "3cae6957",
   "metadata": {},
   "outputs": [
    {
     "name": "stderr",
     "output_type": "stream",
     "text": [
      "Warning message in tm_map.SimpleCorpus(corpus, tm::removePunctuation):\n",
      "\"transformation drops documents\"Warning message in tm_map.SimpleCorpus(corpus, function(x) tm::removeWords(x, tm::stopwords())):\n",
      "\"transformation drops documents\""
     ]
    },
    {
     "data": {
      "image/png": "[encoded data removed]",
      "text/plain": [
       "plot without title"
      ]
     },
     "metadata": {},
     "output_type": "display_data"
    }
   ],
   "source": [
    "wordcloud(ham$text, max.words = 40, scale = c(5, 2))"
   ]
  },
  {
   "cell_type": "code",
   "execution_count": null,
   "id": "689bdc4f",
   "metadata": {},
   "outputs": [],
   "source": []
  },
  {
   "cell_type": "code",
   "execution_count": null,
   "id": "7df76f0b",
   "metadata": {},
   "outputs": [],
   "source": []
  },
  {
   "cell_type": "code",
   "execution_count": null,
   "id": "e9b31b45",
   "metadata": {},
   "outputs": [],
   "source": []
  },
  {
   "cell_type": "code",
   "execution_count": null,
   "id": "5c48c8d6",
   "metadata": {},
   "outputs": [],
   "source": []
  },
  {
   "cell_type": "code",
   "execution_count": null,
   "id": "38c82dc8",
   "metadata": {},
   "outputs": [],
   "source": []
  },
  {
   "cell_type": "code",
   "execution_count": null,
   "id": "58858b0a",
   "metadata": {},
   "outputs": [],
   "source": []
  },
  {
   "cell_type": "code",
   "execution_count": null,
   "id": "b1c909f2",
   "metadata": {},
   "outputs": [],
   "source": []
  },
  {
   "cell_type": "code",
   "execution_count": null,
   "id": "11577539",
   "metadata": {},
   "outputs": [],
   "source": []
  },
  {
   "cell_type": "code",
   "execution_count": null,
   "id": "4db67d20",
   "metadata": {},
   "outputs": [],
   "source": []
  },
  {
   "cell_type": "code",
   "execution_count": null,
   "id": "f15270bc",
   "metadata": {},
   "outputs": [],
   "source": []
  },
  {
   "cell_type": "code",
   "execution_count": null,
   "id": "941bafe5",
   "metadata": {},
   "outputs": [],
   "source": []
  },
  {
   "cell_type": "code",
   "execution_count": null,
   "id": "6fee7fd7",
   "metadata": {},
   "outputs": [],
   "source": []
  },
  {
   "cell_type": "code",
   "execution_count": null,
   "id": "1bb8fa2f",
   "metadata": {},
   "outputs": [],
   "source": []
  },
  {
   "cell_type": "code",
   "execution_count": null,
   "id": "6fb410eb",
   "metadata": {},
   "outputs": [],
   "source": []
  }
 ],
 "metadata": {
  "kernelspec": {
   "display_name": "R",
   "language": "R",
   "name": "ir"
  },
  "language_info": {
   "codemirror_mode": "r",
   "file_extension": ".r",
   "mimetype": "text/x-r-source",
   "name": "R",
   "pygments_lexer": "r",
   "version": "3.6.1"
  }
 },
 "nbformat": 4,
 "nbformat_minor": 5
}
