{
 "cells": [
  {
   "cell_type": "markdown",
   "id": "1f4c1c0c",
   "metadata": {},
   "source": [
    "### Identifying Risky Bank Loans"
   ]
  },
  {
   "cell_type": "markdown",
   "id": "f183a128",
   "metadata": {},
   "source": [
    "#### Load the dataset"
   ]
  },
  {
   "cell_type": "code",
   "execution_count": 2,
   "id": "20a88b11",
   "metadata": {},
   "outputs": [
    {
     "data": {
      "text/html": [
       "<table>\n",
       "<thead><tr><th scope=col>checking_balance</th><th scope=col>months_loan_duration</th><th scope=col>credit_history</th><th scope=col>purpose</th><th scope=col>amount</th><th scope=col>savings_balance</th><th scope=col>employment_duration</th><th scope=col>percent_of_income</th><th scope=col>years_at_residence</th><th scope=col>age</th><th scope=col>other_credit</th><th scope=col>housing</th><th scope=col>existing_loans_count</th><th scope=col>job</th><th scope=col>dependents</th><th scope=col>phone</th><th scope=col>default</th></tr></thead>\n",
       "<tbody>\n",
       "\t<tr><td><span style=white-space:pre-wrap>&lt; 0 DM    </span> </td><td> 6                                                    </td><td>critical                                              </td><td>furniture/appliances                                  </td><td>1169                                                  </td><td>unknown                                               </td><td><span style=white-space:pre-wrap>&gt; 7 years  </span></td><td>4                                                     </td><td>4                                                     </td><td>67                                                    </td><td>none                                                  </td><td><span style=white-space:pre-wrap>own  </span>         </td><td>2                                                     </td><td><span style=white-space:pre-wrap>skilled  </span>     </td><td>1                                                     </td><td>yes                                                   </td><td>no                                                    </td></tr>\n",
       "\t<tr><td>1 - 200 DM                                       </td><td>48                                               </td><td><span style=white-space:pre-wrap>good    </span> </td><td>furniture/appliances                             </td><td>5951                                             </td><td>&lt; 100 DM                                      </td><td>1 - 4 years                                      </td><td>2                                                </td><td>2                                                </td><td>22                                               </td><td>none                                             </td><td><span style=white-space:pre-wrap>own  </span>    </td><td>1                                                </td><td><span style=white-space:pre-wrap>skilled  </span></td><td>1                                                </td><td>no                                               </td><td>yes                                              </td></tr>\n",
       "\t<tr><td><span style=white-space:pre-wrap>unknown   </span>          </td><td>12                                                          </td><td>critical                                                    </td><td><span style=white-space:pre-wrap>education           </span></td><td>2096                                                        </td><td>&lt; 100 DM                                                 </td><td>4 - 7 years                                                 </td><td>2                                                           </td><td>3                                                           </td><td>49                                                          </td><td>none                                                        </td><td><span style=white-space:pre-wrap>own  </span>               </td><td>1                                                           </td><td>unskilled                                                   </td><td>2                                                           </td><td>no                                                          </td><td>no                                                          </td></tr>\n",
       "\t<tr><td><span style=white-space:pre-wrap>&lt; 0 DM    </span></td><td>42                                                   </td><td><span style=white-space:pre-wrap>good    </span>     </td><td>furniture/appliances                                 </td><td>7882                                                 </td><td>&lt; 100 DM                                          </td><td>4 - 7 years                                          </td><td>2                                                    </td><td>4                                                    </td><td>45                                                   </td><td>none                                                 </td><td>other                                                </td><td>1                                                    </td><td><span style=white-space:pre-wrap>skilled  </span>    </td><td>2                                                    </td><td>no                                                   </td><td>no                                                   </td></tr>\n",
       "\t<tr><td><span style=white-space:pre-wrap>&lt; 0 DM    </span>       </td><td>24                                                          </td><td><span style=white-space:pre-wrap>poor    </span>            </td><td><span style=white-space:pre-wrap>car                 </span></td><td>4870                                                        </td><td>&lt; 100 DM                                                 </td><td>1 - 4 years                                                 </td><td>3                                                           </td><td>4                                                           </td><td>53                                                          </td><td>none                                                        </td><td>other                                                       </td><td>2                                                           </td><td><span style=white-space:pre-wrap>skilled  </span>           </td><td>2                                                           </td><td>no                                                          </td><td>yes                                                         </td></tr>\n",
       "\t<tr><td>unknown             </td><td>36                  </td><td>good                </td><td>education           </td><td>9055                </td><td>unknown             </td><td>1 - 4 years         </td><td>2                   </td><td>4                   </td><td>35                  </td><td>none                </td><td>other               </td><td>1                   </td><td>unskilled           </td><td>2                   </td><td>yes                 </td><td>no                  </td></tr>\n",
       "</tbody>\n",
       "</table>\n"
      ],
      "text/latex": [
       "\\begin{tabular}{r|lllllllllllllllll}\n",
       " checking\\_balance & months\\_loan\\_duration & credit\\_history & purpose & amount & savings\\_balance & employment\\_duration & percent\\_of\\_income & years\\_at\\_residence & age & other\\_credit & housing & existing\\_loans\\_count & job & dependents & phone & default\\\\\n",
       "\\hline\n",
       "\t < 0 DM               &  6                   & critical             & furniture/appliances & 1169                 & unknown              & > 7 years            & 4                    & 4                    & 67                   & none                 & own                  & 2                    & skilled              & 1                    & yes                  & no                  \\\\\n",
       "\t 1 - 200 DM           & 48                   & good                 & furniture/appliances & 5951                 & < 100 DM             & 1 - 4 years          & 2                    & 2                    & 22                   & none                 & own                  & 1                    & skilled              & 1                    & no                   & yes                 \\\\\n",
       "\t unknown              & 12                   & critical             & education            & 2096                 & < 100 DM             & 4 - 7 years          & 2                    & 3                    & 49                   & none                 & own                  & 1                    & unskilled            & 2                    & no                   & no                  \\\\\n",
       "\t < 0 DM               & 42                   & good                 & furniture/appliances & 7882                 & < 100 DM             & 4 - 7 years          & 2                    & 4                    & 45                   & none                 & other                & 1                    & skilled              & 2                    & no                   & no                  \\\\\n",
       "\t < 0 DM               & 24                   & poor                 & car                  & 4870                 & < 100 DM             & 1 - 4 years          & 3                    & 4                    & 53                   & none                 & other                & 2                    & skilled              & 2                    & no                   & yes                 \\\\\n",
       "\t unknown              & 36                   & good                 & education            & 9055                 & unknown              & 1 - 4 years          & 2                    & 4                    & 35                   & none                 & other                & 1                    & unskilled            & 2                    & yes                  & no                  \\\\\n",
       "\\end{tabular}\n"
      ],
      "text/markdown": [
       "\n",
       "| checking_balance | months_loan_duration | credit_history | purpose | amount | savings_balance | employment_duration | percent_of_income | years_at_residence | age | other_credit | housing | existing_loans_count | job | dependents | phone | default |\n",
       "|---|---|---|---|---|---|---|---|---|---|---|---|---|---|---|---|---|\n",
       "| < 0 DM               |  6                   | critical             | furniture/appliances | 1169                 | unknown              | > 7 years            | 4                    | 4                    | 67                   | none                 | own                  | 2                    | skilled              | 1                    | yes                  | no                   |\n",
       "| 1 - 200 DM           | 48                   | good                 | furniture/appliances | 5951                 | < 100 DM             | 1 - 4 years          | 2                    | 2                    | 22                   | none                 | own                  | 1                    | skilled              | 1                    | no                   | yes                  |\n",
       "| unknown              | 12                   | critical             | education            | 2096                 | < 100 DM             | 4 - 7 years          | 2                    | 3                    | 49                   | none                 | own                  | 1                    | unskilled            | 2                    | no                   | no                   |\n",
       "| < 0 DM               | 42                   | good                 | furniture/appliances | 7882                 | < 100 DM             | 4 - 7 years          | 2                    | 4                    | 45                   | none                 | other                | 1                    | skilled              | 2                    | no                   | no                   |\n",
       "| < 0 DM               | 24                   | poor                 | car                  | 4870                 | < 100 DM             | 1 - 4 years          | 3                    | 4                    | 53                   | none                 | other                | 2                    | skilled              | 2                    | no                   | yes                  |\n",
       "| unknown              | 36                   | good                 | education            | 9055                 | unknown              | 1 - 4 years          | 2                    | 4                    | 35                   | none                 | other                | 1                    | unskilled            | 2                    | yes                  | no                   |\n",
       "\n"
      ],
      "text/plain": [
       "  checking_balance months_loan_duration credit_history purpose             \n",
       "1 < 0 DM            6                   critical       furniture/appliances\n",
       "2 1 - 200 DM       48                   good           furniture/appliances\n",
       "3 unknown          12                   critical       education           \n",
       "4 < 0 DM           42                   good           furniture/appliances\n",
       "5 < 0 DM           24                   poor           car                 \n",
       "6 unknown          36                   good           education           \n",
       "  amount savings_balance employment_duration percent_of_income\n",
       "1 1169   unknown         > 7 years           4                \n",
       "2 5951   < 100 DM        1 - 4 years         2                \n",
       "3 2096   < 100 DM        4 - 7 years         2                \n",
       "4 7882   < 100 DM        4 - 7 years         2                \n",
       "5 4870   < 100 DM        1 - 4 years         3                \n",
       "6 9055   unknown         1 - 4 years         2                \n",
       "  years_at_residence age other_credit housing existing_loans_count job      \n",
       "1 4                  67  none         own     2                    skilled  \n",
       "2 2                  22  none         own     1                    skilled  \n",
       "3 3                  49  none         own     1                    unskilled\n",
       "4 4                  45  none         other   1                    skilled  \n",
       "5 4                  53  none         other   2                    skilled  \n",
       "6 4                  35  none         other   1                    unskilled\n",
       "  dependents phone default\n",
       "1 1          yes   no     \n",
       "2 1          no    yes    \n",
       "3 2          no    no     \n",
       "4 2          no    no     \n",
       "5 2          no    yes    \n",
       "6 2          yes   no     "
      ]
     },
     "metadata": {},
     "output_type": "display_data"
    }
   ],
   "source": [
    "credit <- read.csv(\"credit.csv\")\n",
    "head(credit)"
   ]
  },
  {
   "cell_type": "code",
   "execution_count": 3,
   "id": "e5c61cbd",
   "metadata": {},
   "outputs": [
    {
     "name": "stdout",
     "output_type": "stream",
     "text": [
      "'data.frame':\t1000 obs. of  17 variables:\n",
      " $ checking_balance    : Factor w/ 4 levels \"< 0 DM\",\"> 200 DM\",..: 1 3 4 1 1 4 4 3 4 3 ...\n",
      " $ months_loan_duration: int  6 48 12 42 24 36 24 36 12 30 ...\n",
      " $ credit_history      : Factor w/ 5 levels \"critical\",\"good\",..: 1 2 1 2 4 2 2 2 2 1 ...\n",
      " $ purpose             : Factor w/ 6 levels \"business\",\"car\",..: 5 5 4 5 2 4 5 2 5 2 ...\n",
      " $ amount              : int  1169 5951 2096 7882 4870 9055 2835 6948 3059 5234 ...\n",
      " $ savings_balance     : Factor w/ 5 levels \"< 100 DM\",\"> 1000 DM\",..: 5 1 1 1 1 5 4 1 2 1 ...\n",
      " $ employment_duration : Factor w/ 5 levels \"< 1 year\",\"> 7 years\",..: 2 3 4 4 3 3 2 3 4 5 ...\n",
      " $ percent_of_income   : int  4 2 2 2 3 2 3 2 2 4 ...\n",
      " $ years_at_residence  : int  4 2 3 4 4 4 4 2 4 2 ...\n",
      " $ age                 : int  67 22 49 45 53 35 53 35 61 28 ...\n",
      " $ other_credit        : Factor w/ 3 levels \"bank\",\"none\",..: 2 2 2 2 2 2 2 2 2 2 ...\n",
      " $ housing             : Factor w/ 3 levels \"other\",\"own\",..: 2 2 2 1 1 1 2 3 2 2 ...\n",
      " $ existing_loans_count: int  2 1 1 1 2 1 1 1 1 2 ...\n",
      " $ job                 : Factor w/ 4 levels \"management\",\"skilled\",..: 2 2 4 2 2 4 2 1 4 1 ...\n",
      " $ dependents          : int  1 1 2 2 2 2 1 1 1 1 ...\n",
      " $ phone               : Factor w/ 2 levels \"no\",\"yes\": 2 1 1 1 1 2 1 2 1 1 ...\n",
      " $ default             : Factor w/ 2 levels \"no\",\"yes\": 1 2 1 1 2 1 1 1 1 2 ...\n"
     ]
    }
   ],
   "source": [
    "str(credit)"
   ]
  },
  {
   "cell_type": "code",
   "execution_count": 4,
   "id": "bc6ebf4a",
   "metadata": {},
   "outputs": [
    {
     "data": {
      "text/plain": [
       "\n",
       "    < 0 DM   > 200 DM 1 - 200 DM    unknown \n",
       "       274         63        269        394 "
      ]
     },
     "metadata": {},
     "output_type": "display_data"
    }
   ],
   "source": [
    "table(credit$checking_balance)"
   ]
  },
  {
   "cell_type": "code",
   "execution_count": 5,
   "id": "b5edc6e7",
   "metadata": {},
   "outputs": [
    {
     "data": {
      "text/plain": [
       "\n",
       "     < 100 DM     > 1000 DM  100 - 500 DM 500 - 1000 DM       unknown \n",
       "          603            48           103            63           183 "
      ]
     },
     "metadata": {},
     "output_type": "display_data"
    }
   ],
   "source": [
    "table(credit$savings_balance)"
   ]
  },
  {
   "cell_type": "code",
   "execution_count": 7,
   "id": "72dd00b1",
   "metadata": {},
   "outputs": [
    {
     "data": {
      "text/plain": [
       "   Min. 1st Qu.  Median    Mean 3rd Qu.    Max. \n",
       "    4.0    12.0    18.0    20.9    24.0    72.0 "
      ]
     },
     "metadata": {},
     "output_type": "display_data"
    }
   ],
   "source": [
    "summary(credit$months_loan_duration)"
   ]
  },
  {
   "cell_type": "code",
   "execution_count": 8,
   "id": "472f344d",
   "metadata": {},
   "outputs": [
    {
     "data": {
      "text/plain": [
       "   Min. 1st Qu.  Median    Mean 3rd Qu.    Max. \n",
       "    250    1366    2320    3271    3972   18424 "
      ]
     },
     "metadata": {},
     "output_type": "display_data"
    }
   ],
   "source": [
    "summary(credit$amount)"
   ]
  },
  {
   "cell_type": "code",
   "execution_count": 9,
   "id": "2ae629f5",
   "metadata": {},
   "outputs": [
    {
     "data": {
      "text/plain": [
       "\n",
       " no yes \n",
       "700 300 "
      ]
     },
     "metadata": {},
     "output_type": "display_data"
    }
   ],
   "source": [
    "table(credit$default)"
   ]
  },
  {
   "cell_type": "code",
   "execution_count": 18,
   "id": "d3503094",
   "metadata": {},
   "outputs": [
    {
     "data": {
      "text/plain": [
       "\n",
       " no yes \n",
       " 70  30 "
      ]
     },
     "metadata": {},
     "output_type": "display_data"
    }
   ],
   "source": [
    "round(prop.table(table(credit$default))*100, digits = 1)"
   ]
  },
  {
   "cell_type": "code",
   "execution_count": 84,
   "id": "436e6ff6",
   "metadata": {},
   "outputs": [],
   "source": [
    "# Create a random order dataframe\n",
    "set.seed(12345)\n",
    "credit_rand <- credit[order(runif(1000)), ]"
   ]
  },
  {
   "cell_type": "code",
   "execution_count": 92,
   "id": "3092eeaf",
   "metadata": {},
   "outputs": [
    {
     "data": {
      "text/html": [
       "<table>\n",
       "<thead><tr><th></th><th scope=col>checking_balance</th><th scope=col>months_loan_duration</th><th scope=col>credit_history</th><th scope=col>purpose</th><th scope=col>amount</th><th scope=col>savings_balance</th><th scope=col>employment_duration</th><th scope=col>percent_of_income</th><th scope=col>years_at_residence</th><th scope=col>age</th><th scope=col>other_credit</th><th scope=col>housing</th><th scope=col>existing_loans_count</th><th scope=col>job</th><th scope=col>dependents</th><th scope=col>phone</th><th scope=col>default</th></tr></thead>\n",
       "<tbody>\n",
       "\t<tr><th scope=row>14</th><td><span style=white-space:pre-wrap>&lt; 0 DM    </span>       </td><td>24                                                          </td><td>critical                                                    </td><td><span style=white-space:pre-wrap>car                 </span></td><td>1199                                                        </td><td><span style=white-space:pre-wrap>&lt; 100 DM    </span>     </td><td><span style=white-space:pre-wrap>&gt; 7 years  </span>      </td><td>4                                                           </td><td>4                                                           </td><td>60                                                          </td><td>none                                                        </td><td>own                                                         </td><td>2                                                           </td><td>unskilled                                                   </td><td>1                                                           </td><td>no                                                          </td><td>yes                                                         </td></tr>\n",
       "\t<tr><th scope=row>448</th><td>1 - 200 DM                                             </td><td> 7                                                     </td><td><span style=white-space:pre-wrap>good    </span>       </td><td>furniture/appliances                                   </td><td>2576                                                   </td><td><span style=white-space:pre-wrap>&lt; 100 DM    </span></td><td>1 - 4 years                                            </td><td>2                                                      </td><td>2                                                      </td><td>35                                                     </td><td>none                                                   </td><td>own                                                    </td><td>1                                                      </td><td><span style=white-space:pre-wrap>skilled   </span>     </td><td>1                                                      </td><td>no                                                     </td><td>no                                                     </td></tr>\n",
       "\t<tr><th scope=row>697</th><td>1 - 200 DM                                             </td><td>12                                                     </td><td><span style=white-space:pre-wrap>good    </span>       </td><td>furniture/appliances                                   </td><td>1103                                                   </td><td><span style=white-space:pre-wrap>&lt; 100 DM    </span></td><td>4 - 7 years                                            </td><td>4                                                      </td><td>3                                                      </td><td>29                                                     </td><td>none                                                   </td><td>own                                                    </td><td>2                                                      </td><td><span style=white-space:pre-wrap>skilled   </span>     </td><td>1                                                      </td><td>no                                                     </td><td>no                                                     </td></tr>\n",
       "\t<tr><th scope=row>32</th><td><span style=white-space:pre-wrap>&lt; 0 DM    </span>  </td><td>24                                                     </td><td><span style=white-space:pre-wrap>good    </span>       </td><td>furniture/appliances                                   </td><td>4020                                                   </td><td><span style=white-space:pre-wrap>&lt; 100 DM    </span></td><td>1 - 4 years                                            </td><td>2                                                      </td><td>2                                                      </td><td>27                                                     </td><td>store                                                  </td><td>own                                                    </td><td>1                                                      </td><td><span style=white-space:pre-wrap>skilled   </span>     </td><td>1                                                      </td><td>no                                                     </td><td>no                                                     </td></tr>\n",
       "\t<tr><th scope=row>196</th><td>1 - 200 DM                                                  </td><td> 9                                                          </td><td>critical                                                    </td><td><span style=white-space:pre-wrap>education           </span></td><td>1501                                                        </td><td><span style=white-space:pre-wrap>&lt; 100 DM    </span>     </td><td><span style=white-space:pre-wrap>&gt; 7 years  </span>      </td><td>2                                                           </td><td>3                                                           </td><td>34                                                          </td><td>none                                                        </td><td>own                                                         </td><td>2                                                           </td><td>management                                                  </td><td>1                                                           </td><td>yes                                                         </td><td>yes                                                         </td></tr>\n",
       "\t<tr><th scope=row>83</th><td>unknown             </td><td>18                  </td><td>good                </td><td>business            </td><td>1568                </td><td>100 - 500 DM        </td><td>1 - 4 years         </td><td>3                   </td><td>4                   </td><td>24                  </td><td>none                </td><td>rent                </td><td>1                   </td><td>unskilled           </td><td>1                   </td><td>no                  </td><td>no                  </td></tr>\n",
       "</tbody>\n",
       "</table>\n"
      ],
      "text/latex": [
       "\\begin{tabular}{r|lllllllllllllllll}\n",
       "  & checking\\_balance & months\\_loan\\_duration & credit\\_history & purpose & amount & savings\\_balance & employment\\_duration & percent\\_of\\_income & years\\_at\\_residence & age & other\\_credit & housing & existing\\_loans\\_count & job & dependents & phone & default\\\\\n",
       "\\hline\n",
       "\t14 & < 0 DM               & 24                   & critical             & car                  & 1199                 & < 100 DM             & > 7 years            & 4                    & 4                    & 60                   & none                 & own                  & 2                    & unskilled            & 1                    & no                   & yes                 \\\\\n",
       "\t448 & 1 - 200 DM           &  7                   & good                 & furniture/appliances & 2576                 & < 100 DM             & 1 - 4 years          & 2                    & 2                    & 35                   & none                 & own                  & 1                    & skilled              & 1                    & no                   & no                  \\\\\n",
       "\t697 & 1 - 200 DM           & 12                   & good                 & furniture/appliances & 1103                 & < 100 DM             & 4 - 7 years          & 4                    & 3                    & 29                   & none                 & own                  & 2                    & skilled              & 1                    & no                   & no                  \\\\\n",
       "\t32 & < 0 DM               & 24                   & good                 & furniture/appliances & 4020                 & < 100 DM             & 1 - 4 years          & 2                    & 2                    & 27                   & store                & own                  & 1                    & skilled              & 1                    & no                   & no                  \\\\\n",
       "\t196 & 1 - 200 DM           &  9                   & critical             & education            & 1501                 & < 100 DM             & > 7 years            & 2                    & 3                    & 34                   & none                 & own                  & 2                    & management           & 1                    & yes                  & yes                 \\\\\n",
       "\t83 & unknown              & 18                   & good                 & business             & 1568                 & 100 - 500 DM         & 1 - 4 years          & 3                    & 4                    & 24                   & none                 & rent                 & 1                    & unskilled            & 1                    & no                   & no                  \\\\\n",
       "\\end{tabular}\n"
      ],
      "text/markdown": [
       "\n",
       "| <!--/--> | checking_balance | months_loan_duration | credit_history | purpose | amount | savings_balance | employment_duration | percent_of_income | years_at_residence | age | other_credit | housing | existing_loans_count | job | dependents | phone | default |\n",
       "|---|---|---|---|---|---|---|---|---|---|---|---|---|---|---|---|---|---|\n",
       "| 14 | < 0 DM               | 24                   | critical             | car                  | 1199                 | < 100 DM             | > 7 years            | 4                    | 4                    | 60                   | none                 | own                  | 2                    | unskilled            | 1                    | no                   | yes                  |\n",
       "| 448 | 1 - 200 DM           |  7                   | good                 | furniture/appliances | 2576                 | < 100 DM             | 1 - 4 years          | 2                    | 2                    | 35                   | none                 | own                  | 1                    | skilled              | 1                    | no                   | no                   |\n",
       "| 697 | 1 - 200 DM           | 12                   | good                 | furniture/appliances | 1103                 | < 100 DM             | 4 - 7 years          | 4                    | 3                    | 29                   | none                 | own                  | 2                    | skilled              | 1                    | no                   | no                   |\n",
       "| 32 | < 0 DM               | 24                   | good                 | furniture/appliances | 4020                 | < 100 DM             | 1 - 4 years          | 2                    | 2                    | 27                   | store                | own                  | 1                    | skilled              | 1                    | no                   | no                   |\n",
       "| 196 | 1 - 200 DM           |  9                   | critical             | education            | 1501                 | < 100 DM             | > 7 years            | 2                    | 3                    | 34                   | none                 | own                  | 2                    | management           | 1                    | yes                  | yes                  |\n",
       "| 83 | unknown              | 18                   | good                 | business             | 1568                 | 100 - 500 DM         | 1 - 4 years          | 3                    | 4                    | 24                   | none                 | rent                 | 1                    | unskilled            | 1                    | no                   | no                   |\n",
       "\n"
      ],
      "text/plain": [
       "    checking_balance months_loan_duration credit_history purpose             \n",
       "14  < 0 DM           24                   critical       car                 \n",
       "448 1 - 200 DM        7                   good           furniture/appliances\n",
       "697 1 - 200 DM       12                   good           furniture/appliances\n",
       "32  < 0 DM           24                   good           furniture/appliances\n",
       "196 1 - 200 DM        9                   critical       education           \n",
       "83  unknown          18                   good           business            \n",
       "    amount savings_balance employment_duration percent_of_income\n",
       "14  1199   < 100 DM        > 7 years           4                \n",
       "448 2576   < 100 DM        1 - 4 years         2                \n",
       "697 1103   < 100 DM        4 - 7 years         4                \n",
       "32  4020   < 100 DM        1 - 4 years         2                \n",
       "196 1501   < 100 DM        > 7 years           2                \n",
       "83  1568   100 - 500 DM    1 - 4 years         3                \n",
       "    years_at_residence age other_credit housing existing_loans_count job       \n",
       "14  4                  60  none         own     2                    unskilled \n",
       "448 2                  35  none         own     1                    skilled   \n",
       "697 3                  29  none         own     2                    skilled   \n",
       "32  2                  27  store        own     1                    skilled   \n",
       "196 3                  34  none         own     2                    management\n",
       "83  4                  24  none         rent    1                    unskilled \n",
       "    dependents phone default\n",
       "14  1          no    yes    \n",
       "448 1          no    no     \n",
       "697 1          no    no     \n",
       "32  1          no    no     \n",
       "196 1          yes   yes    \n",
       "83  1          no    no     "
      ]
     },
     "metadata": {},
     "output_type": "display_data"
    }
   ],
   "source": [
    "# suring that the same data frame sorted differently\n",
    "head(credit_rand)"
   ]
  },
  {
   "cell_type": "code",
   "execution_count": 90,
   "id": "cd62f1e0",
   "metadata": {},
   "outputs": [
    {
     "data": {
      "text/plain": [
       "   Min. 1st Qu.  Median    Mean 3rd Qu.    Max. \n",
       "    250    1366    2320    3271    3972   18424 "
      ]
     },
     "metadata": {},
     "output_type": "display_data"
    }
   ],
   "source": [
    "summary(credit$amount)"
   ]
  },
  {
   "cell_type": "code",
   "execution_count": 91,
   "id": "c2dba5f2",
   "metadata": {},
   "outputs": [
    {
     "data": {
      "text/plain": [
       "   Min. 1st Qu.  Median    Mean 3rd Qu.    Max. \n",
       "    250    1366    2320    3271    3972   18424 "
      ]
     },
     "metadata": {},
     "output_type": "display_data"
    }
   ],
   "source": [
    "summary(credit_rand$amount)"
   ]
  },
  {
   "cell_type": "code",
   "execution_count": 99,
   "id": "4a1cec16",
   "metadata": {},
   "outputs": [
    {
     "data": {
      "text/html": [
       "<ol class=list-inline>\n",
       "\t<li>1169</li>\n",
       "\t<li>5951</li>\n",
       "\t<li>2096</li>\n",
       "\t<li>7882</li>\n",
       "\t<li>4870</li>\n",
       "\t<li>9055</li>\n",
       "</ol>\n"
      ],
      "text/latex": [
       "\\begin{enumerate*}\n",
       "\\item 1169\n",
       "\\item 5951\n",
       "\\item 2096\n",
       "\\item 7882\n",
       "\\item 4870\n",
       "\\item 9055\n",
       "\\end{enumerate*}\n"
      ],
      "text/markdown": [
       "1. 1169\n",
       "2. 5951\n",
       "3. 2096\n",
       "4. 7882\n",
       "5. 4870\n",
       "6. 9055\n",
       "\n",
       "\n"
      ],
      "text/plain": [
       "[1] 1169 5951 2096 7882 4870 9055"
      ]
     },
     "metadata": {},
     "output_type": "display_data"
    }
   ],
   "source": [
    "head(credit$amount)"
   ]
  },
  {
   "cell_type": "code",
   "execution_count": 100,
   "id": "db011a63",
   "metadata": {},
   "outputs": [
    {
     "data": {
      "text/html": [
       "<ol class=list-inline>\n",
       "\t<li>1199</li>\n",
       "\t<li>2576</li>\n",
       "\t<li>1103</li>\n",
       "\t<li>4020</li>\n",
       "\t<li>1501</li>\n",
       "\t<li>1568</li>\n",
       "</ol>\n"
      ],
      "text/latex": [
       "\\begin{enumerate*}\n",
       "\\item 1199\n",
       "\\item 2576\n",
       "\\item 1103\n",
       "\\item 4020\n",
       "\\item 1501\n",
       "\\item 1568\n",
       "\\end{enumerate*}\n"
      ],
      "text/markdown": [
       "1. 1199\n",
       "2. 2576\n",
       "3. 1103\n",
       "4. 4020\n",
       "5. 1501\n",
       "6. 1568\n",
       "\n",
       "\n"
      ],
      "text/plain": [
       "[1] 1199 2576 1103 4020 1501 1568"
      ]
     },
     "metadata": {},
     "output_type": "display_data"
    }
   ],
   "source": [
    "head(credit_rand$amount)"
   ]
  },
  {
   "cell_type": "code",
   "execution_count": 101,
   "id": "e2be9892",
   "metadata": {},
   "outputs": [],
   "source": [
    "# split the training and test dataset\n",
    "credit_train <- credit_rand[1:900, ]\n",
    "credit_test <- credit_rand[901:1000, ] "
   ]
  },
  {
   "cell_type": "code",
   "execution_count": 109,
   "id": "b47eef28",
   "metadata": {},
   "outputs": [
    {
     "data": {
      "text/plain": [
       "\n",
       "   no   yes \n",
       "70.22 29.78 "
      ]
     },
     "metadata": {},
     "output_type": "display_data"
    }
   ],
   "source": [
    "# check that 30 percent of defaulted loans in each of the datasets\n",
    "round(prop.table(table(credit_train$default)) * 100, digits = 2)"
   ]
  },
  {
   "cell_type": "code",
   "execution_count": 112,
   "id": "a9a05557",
   "metadata": {},
   "outputs": [
    {
     "data": {
      "text/plain": [
       "\n",
       " no yes \n",
       " 68  32 "
      ]
     },
     "metadata": {},
     "output_type": "display_data"
    }
   ],
   "source": [
    "round(prop.table(table(credit_test$default)) * 100, digits = 2)"
   ]
  },
  {
   "cell_type": "code",
   "execution_count": null,
   "id": "8dd32aa8",
   "metadata": {},
   "outputs": [],
   "source": []
  },
  {
   "cell_type": "code",
   "execution_count": null,
   "id": "f58b7221",
   "metadata": {},
   "outputs": [],
   "source": []
  },
  {
   "cell_type": "code",
   "execution_count": null,
   "id": "0e5fd663",
   "metadata": {},
   "outputs": [],
   "source": []
  },
  {
   "cell_type": "code",
   "execution_count": null,
   "id": "314d86e6",
   "metadata": {},
   "outputs": [],
   "source": []
  },
  {
   "cell_type": "code",
   "execution_count": null,
   "id": "87cfe3a8",
   "metadata": {},
   "outputs": [],
   "source": []
  },
  {
   "cell_type": "code",
   "execution_count": null,
   "id": "03f44e70",
   "metadata": {},
   "outputs": [],
   "source": []
  },
  {
   "cell_type": "code",
   "execution_count": null,
   "id": "8160f5f0",
   "metadata": {},
   "outputs": [],
   "source": []
  },
  {
   "cell_type": "code",
   "execution_count": null,
   "id": "995ddb7b",
   "metadata": {},
   "outputs": [],
   "source": []
  },
  {
   "cell_type": "code",
   "execution_count": null,
   "id": "77fbbc70",
   "metadata": {},
   "outputs": [],
   "source": []
  },
  {
   "cell_type": "code",
   "execution_count": null,
   "id": "f367f8ca",
   "metadata": {},
   "outputs": [],
   "source": []
  },
  {
   "cell_type": "code",
   "execution_count": null,
   "id": "8410014a",
   "metadata": {},
   "outputs": [],
   "source": []
  },
  {
   "cell_type": "code",
   "execution_count": null,
   "id": "fcbb237f",
   "metadata": {},
   "outputs": [],
   "source": []
  },
  {
   "cell_type": "code",
   "execution_count": null,
   "id": "5d69ef56",
   "metadata": {},
   "outputs": [],
   "source": []
  },
  {
   "cell_type": "code",
   "execution_count": null,
   "id": "54949871",
   "metadata": {},
   "outputs": [],
   "source": []
  },
  {
   "cell_type": "code",
   "execution_count": null,
   "id": "6019b0a6",
   "metadata": {},
   "outputs": [],
   "source": []
  },
  {
   "cell_type": "code",
   "execution_count": null,
   "id": "89fa6ad6",
   "metadata": {},
   "outputs": [],
   "source": []
  },
  {
   "cell_type": "code",
   "execution_count": null,
   "id": "a62313d1",
   "metadata": {},
   "outputs": [],
   "source": []
  },
  {
   "cell_type": "code",
   "execution_count": null,
   "id": "b851fb57",
   "metadata": {},
   "outputs": [],
   "source": []
  },
  {
   "cell_type": "code",
   "execution_count": null,
   "id": "e0c151d8",
   "metadata": {},
   "outputs": [],
   "source": []
  },
  {
   "cell_type": "code",
   "execution_count": null,
   "id": "9506bf9a",
   "metadata": {},
   "outputs": [],
   "source": []
  },
  {
   "cell_type": "code",
   "execution_count": null,
   "id": "8ca2df2d",
   "metadata": {},
   "outputs": [],
   "source": []
  },
  {
   "cell_type": "code",
   "execution_count": null,
   "id": "e3c9e453",
   "metadata": {},
   "outputs": [],
   "source": []
  }
 ],
 "metadata": {
  "kernelspec": {
   "display_name": "R",
   "language": "R",
   "name": "ir"
  },
  "language_info": {
   "codemirror_mode": "r",
   "file_extension": ".r",
   "mimetype": "text/x-r-source",
   "name": "R",
   "pygments_lexer": "r",
   "version": "3.6.1"
  }
 },
 "nbformat": 4,
 "nbformat_minor": 5
}
