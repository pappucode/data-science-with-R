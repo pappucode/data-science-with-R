{
 "cells": [
  {
   "cell_type": "markdown",
   "id": "c7ec900f",
   "metadata": {},
   "source": [
    "### Performing OCR with SVMS"
   ]
  },
  {
   "cell_type": "markdown",
   "id": "0622e9e0",
   "metadata": {},
   "source": [
    "##### Collecting Data"
   ]
  },
  {
   "cell_type": "code",
   "execution_count": 4,
   "id": "a76c0a44",
   "metadata": {},
   "outputs": [
    {
     "data": {
      "text/html": [
       "<table>\n",
       "<thead><tr><th scope=col>letter</th><th scope=col>xbox</th><th scope=col>ybox</th><th scope=col>width</th><th scope=col>height</th><th scope=col>onpix</th><th scope=col>xbar</th><th scope=col>ybar</th><th scope=col>x2bar</th><th scope=col>y2bar</th><th scope=col>xybar</th><th scope=col>x2ybar</th><th scope=col>xy2bar</th><th scope=col>xedge</th><th scope=col>xedgey</th><th scope=col>yedge</th><th scope=col>yedgex</th></tr></thead>\n",
       "<tbody>\n",
       "\t<tr><td>T </td><td>2 </td><td> 8</td><td>3 </td><td>5 </td><td>1 </td><td> 8</td><td>13</td><td>0 </td><td>6 </td><td> 6</td><td>10</td><td> 8</td><td>0 </td><td> 8</td><td>0 </td><td> 8</td></tr>\n",
       "\t<tr><td>I </td><td>5 </td><td>12</td><td>3 </td><td>7 </td><td>2 </td><td>10</td><td> 5</td><td>5 </td><td>4 </td><td>13</td><td> 3</td><td> 9</td><td>2 </td><td> 8</td><td>4 </td><td>10</td></tr>\n",
       "\t<tr><td>D </td><td>4 </td><td>11</td><td>6 </td><td>8 </td><td>6 </td><td>10</td><td> 6</td><td>2 </td><td>6 </td><td>10</td><td> 3</td><td> 7</td><td>3 </td><td> 7</td><td>3 </td><td> 9</td></tr>\n",
       "\t<tr><td>N </td><td>7 </td><td>11</td><td>6 </td><td>6 </td><td>3 </td><td> 5</td><td> 9</td><td>4 </td><td>6 </td><td> 4</td><td> 4</td><td>10</td><td>6 </td><td>10</td><td>2 </td><td> 8</td></tr>\n",
       "\t<tr><td>G </td><td>2 </td><td> 1</td><td>3 </td><td>1 </td><td>1 </td><td> 8</td><td> 6</td><td>6 </td><td>6 </td><td> 6</td><td> 5</td><td> 9</td><td>1 </td><td> 7</td><td>5 </td><td>10</td></tr>\n",
       "\t<tr><td>S </td><td>4 </td><td>11</td><td>5 </td><td>8 </td><td>3 </td><td> 8</td><td> 8</td><td>6 </td><td>9 </td><td> 5</td><td> 6</td><td> 6</td><td>0 </td><td> 8</td><td>9 </td><td> 7</td></tr>\n",
       "</tbody>\n",
       "</table>\n"
      ],
      "text/latex": [
       "\\begin{tabular}{r|lllllllllllllllll}\n",
       " letter & xbox & ybox & width & height & onpix & xbar & ybar & x2bar & y2bar & xybar & x2ybar & xy2bar & xedge & xedgey & yedge & yedgex\\\\\n",
       "\\hline\n",
       "\t T  & 2  &  8 & 3  & 5  & 1  &  8 & 13 & 0  & 6  &  6 & 10 &  8 & 0  &  8 & 0  &  8\\\\\n",
       "\t I  & 5  & 12 & 3  & 7  & 2  & 10 &  5 & 5  & 4  & 13 &  3 &  9 & 2  &  8 & 4  & 10\\\\\n",
       "\t D  & 4  & 11 & 6  & 8  & 6  & 10 &  6 & 2  & 6  & 10 &  3 &  7 & 3  &  7 & 3  &  9\\\\\n",
       "\t N  & 7  & 11 & 6  & 6  & 3  &  5 &  9 & 4  & 6  &  4 &  4 & 10 & 6  & 10 & 2  &  8\\\\\n",
       "\t G  & 2  &  1 & 3  & 1  & 1  &  8 &  6 & 6  & 6  &  6 &  5 &  9 & 1  &  7 & 5  & 10\\\\\n",
       "\t S  & 4  & 11 & 5  & 8  & 3  &  8 &  8 & 6  & 9  &  5 &  6 &  6 & 0  &  8 & 9  &  7\\\\\n",
       "\\end{tabular}\n"
      ],
      "text/markdown": [
       "\n",
       "| letter | xbox | ybox | width | height | onpix | xbar | ybar | x2bar | y2bar | xybar | x2ybar | xy2bar | xedge | xedgey | yedge | yedgex |\n",
       "|---|---|---|---|---|---|---|---|---|---|---|---|---|---|---|---|---|\n",
       "| T  | 2  |  8 | 3  | 5  | 1  |  8 | 13 | 0  | 6  |  6 | 10 |  8 | 0  |  8 | 0  |  8 |\n",
       "| I  | 5  | 12 | 3  | 7  | 2  | 10 |  5 | 5  | 4  | 13 |  3 |  9 | 2  |  8 | 4  | 10 |\n",
       "| D  | 4  | 11 | 6  | 8  | 6  | 10 |  6 | 2  | 6  | 10 |  3 |  7 | 3  |  7 | 3  |  9 |\n",
       "| N  | 7  | 11 | 6  | 6  | 3  |  5 |  9 | 4  | 6  |  4 |  4 | 10 | 6  | 10 | 2  |  8 |\n",
       "| G  | 2  |  1 | 3  | 1  | 1  |  8 |  6 | 6  | 6  |  6 |  5 |  9 | 1  |  7 | 5  | 10 |\n",
       "| S  | 4  | 11 | 5  | 8  | 3  |  8 |  8 | 6  | 9  |  5 |  6 |  6 | 0  |  8 | 9  |  7 |\n",
       "\n"
      ],
      "text/plain": [
       "  letter xbox ybox width height onpix xbar ybar x2bar y2bar xybar x2ybar xy2bar\n",
       "1 T      2     8   3     5      1      8   13   0     6      6    10      8    \n",
       "2 I      5    12   3     7      2     10    5   5     4     13     3      9    \n",
       "3 D      4    11   6     8      6     10    6   2     6     10     3      7    \n",
       "4 N      7    11   6     6      3      5    9   4     6      4     4     10    \n",
       "5 G      2     1   3     1      1      8    6   6     6      6     5      9    \n",
       "6 S      4    11   5     8      3      8    8   6     9      5     6      6    \n",
       "  xedge xedgey yedge yedgex\n",
       "1 0      8     0      8    \n",
       "2 2      8     4     10    \n",
       "3 3      7     3      9    \n",
       "4 6     10     2      8    \n",
       "5 1      7     5     10    \n",
       "6 0      8     9      7    "
      ]
     },
     "metadata": {},
     "output_type": "display_data"
    }
   ],
   "source": [
    "letters <- read.csv(\"letterdata.csv\")\n",
    "head(letters)"
   ]
  },
  {
   "cell_type": "markdown",
   "id": "af3880a1",
   "metadata": {},
   "source": [
    "##### Exploring and preparing the data"
   ]
  },
  {
   "cell_type": "code",
   "execution_count": 5,
   "id": "66680f31",
   "metadata": {},
   "outputs": [
    {
     "name": "stdout",
     "output_type": "stream",
     "text": [
      "'data.frame':\t20000 obs. of  17 variables:\n",
      " $ letter: Factor w/ 26 levels \"A\",\"B\",\"C\",\"D\",..: 20 9 4 14 7 19 2 1 10 13 ...\n",
      " $ xbox  : int  2 5 4 7 2 4 4 1 2 11 ...\n",
      " $ ybox  : int  8 12 11 11 1 11 2 1 2 15 ...\n",
      " $ width : int  3 3 6 6 3 5 5 3 4 13 ...\n",
      " $ height: int  5 7 8 6 1 8 4 2 4 9 ...\n",
      " $ onpix : int  1 2 6 3 1 3 4 1 2 7 ...\n",
      " $ xbar  : int  8 10 10 5 8 8 8 8 10 13 ...\n",
      " $ ybar  : int  13 5 6 9 6 8 7 2 6 2 ...\n",
      " $ x2bar : int  0 5 2 4 6 6 6 2 2 6 ...\n",
      " $ y2bar : int  6 4 6 6 6 9 6 2 6 2 ...\n",
      " $ xybar : int  6 13 10 4 6 5 7 8 12 12 ...\n",
      " $ x2ybar: int  10 3 3 4 5 6 6 2 4 1 ...\n",
      " $ xy2bar: int  8 9 7 10 9 6 6 8 8 9 ...\n",
      " $ xedge : int  0 2 3 6 1 0 2 1 1 8 ...\n",
      " $ xedgey: int  8 8 7 10 7 8 8 6 6 1 ...\n",
      " $ yedge : int  0 4 3 2 5 9 7 2 1 1 ...\n",
      " $ yedgex: int  8 10 9 8 10 7 10 7 7 8 ...\n"
     ]
    }
   ],
   "source": [
    "str(letters)"
   ]
  },
  {
   "cell_type": "code",
   "execution_count": 6,
   "id": "9b5887a3",
   "metadata": {},
   "outputs": [],
   "source": [
    "# Divided the data into trainingand test set\n",
    "letters_train <- letters[1:16000, ]\n",
    "letters_test <- letters[16001:20000, ]"
   ]
  },
  {
   "cell_type": "markdown",
   "id": "0cef9348",
   "metadata": {},
   "source": [
    "##### Training a model on the data"
   ]
  },
  {
   "cell_type": "code",
   "execution_count": 8,
   "id": "47a39159",
   "metadata": {},
   "outputs": [
    {
     "name": "stderr",
     "output_type": "stream",
     "text": [
      "Installing package into 'C:/Users/Pappu/Documents/R/win-library/3.6'\n",
      "(as 'lib' is unspecified)\n"
     ]
    },
    {
     "name": "stdout",
     "output_type": "stream",
     "text": [
      "\n",
      "  There is a binary version available but the source version is later:\n",
      "        binary source needs_compilation\n",
      "kernlab 0.9-29 0.9-31              TRUE\n",
      "\n",
      "  Binaries will be installed\n",
      "package 'kernlab' successfully unpacked and MD5 sums checked\n",
      "\n",
      "The downloaded binary packages are in\n",
      "\tC:\\Users\\Pappu\\AppData\\Local\\Temp\\RtmpOUu06R\\downloaded_packages\n"
     ]
    }
   ],
   "source": [
    "install.packages(\"kernlab\")"
   ]
  },
  {
   "cell_type": "code",
   "execution_count": 15,
   "id": "1e27890a",
   "metadata": {},
   "outputs": [
    {
     "name": "stdout",
     "output_type": "stream",
     "text": [
      " Setting default kernel parameters  \n"
     ]
    }
   ],
   "source": [
    "library(kernlab)\n",
    "letter_classifiers <- ksvm(letter ~ ., data = letters_train, kernel = \"vanilladot\")"
   ]
  },
  {
   "cell_type": "code",
   "execution_count": 16,
   "id": "58d12506",
   "metadata": {},
   "outputs": [
    {
     "data": {
      "text/plain": [
       "Support Vector Machine object of class \"ksvm\" \n",
       "\n",
       "SV type: C-svc  (classification) \n",
       " parameter : cost C = 1 \n",
       "\n",
       "Linear (vanilla) kernel function. \n",
       "\n",
       "Number of Support Vectors : 7037 \n",
       "\n",
       "Objective Function Value : -14.1746 -20.0072 -23.5628 -6.2009 -7.5524 -32.7694 -49.9786 -18.1824 -62.1111 -32.7284 -16.2209 -32.2837 -28.9777 -51.2195 -13.276 -35.6217 -30.8612 -16.5256 -14.6811 -32.7475 -30.3219 -7.7956 -11.8138 -32.3463 -13.1262 -9.2692 -153.1654 -52.9678 -76.7744 -119.2067 -165.4437 -54.6237 -41.9809 -67.2688 -25.1959 -27.6371 -26.4102 -35.5583 -41.2597 -122.164 -187.9178 -222.0856 -21.4765 -10.3752 -56.3684 -12.2277 -49.4899 -9.3372 -19.2092 -11.1776 -100.2186 -29.1397 -238.0516 -77.1985 -8.3339 -4.5308 -139.8534 -80.8854 -20.3642 -13.0245 -82.5151 -14.5032 -26.7509 -18.5713 -23.9511 -27.3034 -53.2731 -11.4773 -5.12 -13.9504 -4.4982 -3.5755 -8.4914 -40.9716 -49.8182 -190.0269 -43.8594 -44.8667 -45.2596 -13.5561 -17.7664 -87.4105 -107.1056 -37.0245 -30.7133 -112.3218 -32.9619 -27.2971 -35.5836 -17.8586 -5.1391 -43.4094 -7.7843 -16.6785 -58.5103 -159.9936 -49.0782 -37.8426 -32.8002 -74.5249 -133.3423 -11.1638 -5.3575 -12.438 -30.9907 -141.6924 -54.2953 -179.0114 -99.8896 -10.288 -15.1553 -3.7815 -67.6123 -7.696 -88.9304 -47.6448 -94.3718 -70.2733 -71.5057 -21.7854 -12.7657 -7.4383 -23.502 -13.1055 -239.9708 -30.4193 -25.2113 -136.2795 -140.9565 -9.8122 -34.4584 -6.3039 -60.8421 -66.5793 -27.2816 -214.3225 -34.7796 -16.7631 -135.7821 -160.6279 -45.2949 -25.1023 -144.9059 -82.2352 -327.7154 -142.0613 -158.8821 -32.2181 -32.8887 -52.9641 -25.4937 -47.9936 -6.8991 -9.7293 -36.436 -70.3907 -187.7611 -46.9371 -89.8103 -143.4213 -624.3645 -119.2204 -145.4435 -327.7748 -33.3255 -64.0607 -145.4831 -116.5903 -36.2977 -66.3762 -44.8248 -7.5088 -217.9246 -12.9699 -30.504 -2.0369 -6.126 -14.4448 -21.6337 -57.3084 -20.6915 -184.3625 -20.1052 -4.1484 -4.5344 -0.828 -121.4411 -7.9486 -58.5604 -21.4878 -13.5476 -5.646 -15.629 -28.9576 -20.5959 -76.7111 -27.0119 -94.7101 -15.1713 -10.0222 -7.6394 -1.5784 -87.6952 -6.2239 -99.3711 -101.0906 -45.6639 -24.0725 -61.7702 -24.1583 -52.2368 -234.3264 -39.9749 -48.8556 -34.1464 -20.9664 -11.4525 -123.0277 -6.4903 -5.1865 -8.8016 -9.4618 -21.7742 -24.2361 -123.3984 -31.4404 -88.3901 -30.0924 -13.8198 -9.2701 -3.0823 -87.9624 -6.3845 -13.968 -65.0702 -105.523 -13.7403 -13.7625 -50.4223 -2.933 -8.4289 -80.3381 -36.4147 -112.7485 -4.1711 -7.8989 -1.2676 -90.8037 -21.4919 -7.2235 -47.9557 -3.383 -20.433 -64.6138 -45.5781 -56.1309 -6.1345 -18.6307 -2.374 -72.2553 -111.1885 -106.7664 -23.1323 -19.3765 -54.9819 -34.2953 -64.4756 -20.4115 -6.689 -4.378 -59.141 -34.2468 -58.1509 -33.8665 -10.6902 -53.1387 -13.7478 -20.1987 -55.0923 -3.8058 -60.0382 -235.4841 -12.6837 -11.7407 -17.3058 -9.7167 -65.8498 -17.1051 -42.8131 -53.1054 -25.0437 -15.302 -44.0749 -16.9582 -62.9773 -5.204 -5.2963 -86.1704 -3.7209 -6.3445 -1.1264 -122.5771 -23.9041 -355.0145 -31.1013 -32.619 -4.9664 -84.1048 -134.5957 -72.8371 -23.9002 -35.3077 -11.7119 -22.2889 -1.8598 -59.2174 -8.8994 -150.742 -1.8533 -1.9711 -9.9676 -0.5207 -26.9229 -30.429 -5.6289 \n",
       "Training error : 0.130062 "
      ]
     },
     "metadata": {},
     "output_type": "display_data"
    }
   ],
   "source": [
    "letter_classifiers"
   ]
  },
  {
   "cell_type": "markdown",
   "id": "46511380",
   "metadata": {},
   "source": [
    "#### Evaluating model performance"
   ]
  },
  {
   "cell_type": "code",
   "execution_count": 17,
   "id": "5548d438",
   "metadata": {},
   "outputs": [],
   "source": [
    "letter_predictions <- predict(letter_classifiers, letters_test)"
   ]
  },
  {
   "cell_type": "code",
   "execution_count": 18,
   "id": "9038cb01",
   "metadata": {},
   "outputs": [
    {
     "data": {
      "text/html": [
       "<ol class=list-inline>\n",
       "\t<li>U</li>\n",
       "\t<li>N</li>\n",
       "\t<li>V</li>\n",
       "\t<li>X</li>\n",
       "\t<li>N</li>\n",
       "\t<li>H</li>\n",
       "</ol>\n",
       "\n",
       "<details>\n",
       "\t<summary style=display:list-item;cursor:pointer>\n",
       "\t\t<strong>Levels</strong>:\n",
       "\t</summary>\n",
       "\t<ol class=list-inline>\n",
       "\t\t<li>'A'</li>\n",
       "\t\t<li>'B'</li>\n",
       "\t\t<li>'C'</li>\n",
       "\t\t<li>'D'</li>\n",
       "\t\t<li>'E'</li>\n",
       "\t\t<li>'F'</li>\n",
       "\t\t<li>'G'</li>\n",
       "\t\t<li>'H'</li>\n",
       "\t\t<li>'I'</li>\n",
       "\t\t<li>'J'</li>\n",
       "\t\t<li>'K'</li>\n",
       "\t\t<li>'L'</li>\n",
       "\t\t<li>'M'</li>\n",
       "\t\t<li>'N'</li>\n",
       "\t\t<li>'O'</li>\n",
       "\t\t<li>'P'</li>\n",
       "\t\t<li>'Q'</li>\n",
       "\t\t<li>'R'</li>\n",
       "\t\t<li>'S'</li>\n",
       "\t\t<li>'T'</li>\n",
       "\t\t<li>'U'</li>\n",
       "\t\t<li>'V'</li>\n",
       "\t\t<li>'W'</li>\n",
       "\t\t<li>'X'</li>\n",
       "\t\t<li>'Y'</li>\n",
       "\t\t<li>'Z'</li>\n",
       "\t</ol>\n",
       "</details>"
      ],
      "text/latex": [
       "\\begin{enumerate*}\n",
       "\\item U\n",
       "\\item N\n",
       "\\item V\n",
       "\\item X\n",
       "\\item N\n",
       "\\item H\n",
       "\\end{enumerate*}\n",
       "\n",
       "\\emph{Levels}: \\begin{enumerate*}\n",
       "\\item 'A'\n",
       "\\item 'B'\n",
       "\\item 'C'\n",
       "\\item 'D'\n",
       "\\item 'E'\n",
       "\\item 'F'\n",
       "\\item 'G'\n",
       "\\item 'H'\n",
       "\\item 'I'\n",
       "\\item 'J'\n",
       "\\item 'K'\n",
       "\\item 'L'\n",
       "\\item 'M'\n",
       "\\item 'N'\n",
       "\\item 'O'\n",
       "\\item 'P'\n",
       "\\item 'Q'\n",
       "\\item 'R'\n",
       "\\item 'S'\n",
       "\\item 'T'\n",
       "\\item 'U'\n",
       "\\item 'V'\n",
       "\\item 'W'\n",
       "\\item 'X'\n",
       "\\item 'Y'\n",
       "\\item 'Z'\n",
       "\\end{enumerate*}\n"
      ],
      "text/markdown": [
       "1. U\n",
       "2. N\n",
       "3. V\n",
       "4. X\n",
       "5. N\n",
       "6. H\n",
       "\n",
       "\n",
       "\n",
       "**Levels**: 1. 'A'\n",
       "2. 'B'\n",
       "3. 'C'\n",
       "4. 'D'\n",
       "5. 'E'\n",
       "6. 'F'\n",
       "7. 'G'\n",
       "8. 'H'\n",
       "9. 'I'\n",
       "10. 'J'\n",
       "11. 'K'\n",
       "12. 'L'\n",
       "13. 'M'\n",
       "14. 'N'\n",
       "15. 'O'\n",
       "16. 'P'\n",
       "17. 'Q'\n",
       "18. 'R'\n",
       "19. 'S'\n",
       "20. 'T'\n",
       "21. 'U'\n",
       "22. 'V'\n",
       "23. 'W'\n",
       "24. 'X'\n",
       "25. 'Y'\n",
       "26. 'Z'\n",
       "\n",
       "\n"
      ],
      "text/plain": [
       "[1] U N V X N H\n",
       "Levels: A B C D E F G H I J K L M N O P Q R S T U V W X Y Z"
      ]
     },
     "metadata": {},
     "output_type": "display_data"
    }
   ],
   "source": [
    "head(letter_predictions)"
   ]
  },
  {
   "cell_type": "code",
   "execution_count": 19,
   "id": "38888bc8",
   "metadata": {},
   "outputs": [
    {
     "data": {
      "text/plain": [
       "                  \n",
       "letter_predictions   A   B   C   D   E   F   G   H   I   J   K   L   M   N   O\n",
       "                 A 144   0   0   0   0   0   0   0   0   1   0   0   1   2   2\n",
       "                 B   0 121   0   5   2   0   1   2   0   0   1   0   1   0   0\n",
       "                 C   0   0 120   0   4   0  10   2   2   0   1   3   0   0   2\n",
       "                 D   2   2   0 156   0   1   3  10   4   3   4   3   0   5   5\n",
       "                 E   0   0   5   0 127   3   1   1   0   0   3   4   0   0   0\n",
       "                 F   0   0   0   0   0 138   2   2   6   0   0   0   0   0   0\n",
       "                 G   1   1   2   1   9   2 123   2   0   0   1   2   1   0   1\n",
       "                 H   0   0   0   1   0   1   0 102   0   2   3   2   3   4  20\n",
       "                 I   0   1   0   0   0   1   0   0 141   8   0   0   0   0   0\n",
       "                 J   0   1   0   0   0   1   0   2   5 128   0   0   0   0   1\n",
       "                 K   1   1   9   0   0   0   2   5   0   0 118   0   0   2   0\n",
       "                 L   0   0   0   0   2   0   1   1   0   0   0 133   0   0   0\n",
       "                 M   0   0   1   1   0   0   1   1   0   0   0   0 135   4   0\n",
       "                 N   0   0   0   0   0   1   0   1   0   0   0   0   0 145   0\n",
       "                 O   1   0   2   1   0   0   1   2   0   1   0   0   0   1  99\n",
       "                 P   0   0   0   1   0   2   1   0   0   0   0   0   0   0   2\n",
       "                 Q   0   0   0   0   0   0   8   2   0   0   0   3   0   0   3\n",
       "                 R   0   7   0   0   1   0   3   8   0   0  13   0   0   1   1\n",
       "                 S   1   1   0   0   1   0   3   0   1   1   0   1   0   0   0\n",
       "                 T   0   0   0   0   3   2   0   0   0   0   1   0   0   0   0\n",
       "                 U   1   0   3   1   0   0   0   2   0   0   0   0   0   0   1\n",
       "                 V   0   0   0   0   0   1   3   4   0   0   0   0   1   2   1\n",
       "                 W   0   0   0   0   0   0   1   0   0   0   0   0   2   0   0\n",
       "                 X   0   1   0   0   2   0   0   1   3   0   1   6   0   0   1\n",
       "                 Y   3   0   0   0   0   0   0   1   0   0   0   0   0   0   0\n",
       "                 Z   2   0   0   0   1   0   0   0   3   4   0   0   0   0   0\n",
       "                  \n",
       "letter_predictions   P   Q   R   S   T   U   V   W   X   Y   Z\n",
       "                 A   0   5   0   1   1   1   0   1   0   0   1\n",
       "                 B   2   2   3   5   0   0   2   0   1   0   0\n",
       "                 C   0   0   0   0   0   0   0   0   0   0   0\n",
       "                 D   3   1   4   0   0   0   0   0   3   3   1\n",
       "                 E   0   2   0  10   0   0   0   0   2   0   3\n",
       "                 F  16   0   0   3   0   0   1   0   1   2   0\n",
       "                 G   2   8   2   4   3   0   0   0   1   0   0\n",
       "                 H   0   2   3   0   3   0   2   0   0   1   0\n",
       "                 I   1   0   0   3   0   0   0   0   5   1   1\n",
       "                 J   1   3   0   2   0   0   0   0   1   0   6\n",
       "                 K   1   0   7   0   1   3   0   0   5   0   0\n",
       "                 L   0   1   0   5   0   0   0   0   0   0   1\n",
       "                 M   0   0   0   0   0   3   0   8   0   0   0\n",
       "                 N   0   0   3   0   0   1   0   2   0   0   0\n",
       "                 O   3   3   0   0   0   3   0   0   0   0   0\n",
       "                 P 130   0   0   0   0   0   0   0   0   1   0\n",
       "                 Q   1 124   0   5   0   0   0   0   0   2   0\n",
       "                 R   1   0 138   0   1   0   1   0   0   0   0\n",
       "                 S   0  14   0 101   3   0   0   0   2   0  10\n",
       "                 T   0   0   0   3 133   1   0   0   0   2   2\n",
       "                 U   0   0   0   0   0 152   0   0   1   1   0\n",
       "                 V   0   3   1   0   0   0 126   1   0   4   0\n",
       "                 W   0   0   0   0   0   4   4 127   0   0   0\n",
       "                 X   0   0   0   1   0   0   0   0 137   1   1\n",
       "                 Y   7   0   0   0   3   0   0   0   0 127   0\n",
       "                 Z   0   0   0  18   3   0   0   0   0   0 132"
      ]
     },
     "metadata": {},
     "output_type": "display_data"
    }
   ],
   "source": [
    "table(letter_predictions, letters_test$letter)"
   ]
  },
  {
   "cell_type": "code",
   "execution_count": 22,
   "id": "bdeabc30",
   "metadata": {},
   "outputs": [],
   "source": [
    "aggrement <- letter_predictions == letters_test$letter"
   ]
  },
  {
   "cell_type": "code",
   "execution_count": 23,
   "id": "7ff7639d",
   "metadata": {},
   "outputs": [
    {
     "data": {
      "text/plain": [
       "aggrement\n",
       "FALSE  TRUE \n",
       "  643  3357 "
      ]
     },
     "metadata": {},
     "output_type": "display_data"
    }
   ],
   "source": [
    "table(aggrement)"
   ]
  },
  {
   "cell_type": "code",
   "execution_count": 25,
   "id": "4840b304",
   "metadata": {},
   "outputs": [
    {
     "data": {
      "text/plain": [
       "aggrement\n",
       "  FALSE    TRUE \n",
       "0.16075 0.83925 "
      ]
     },
     "metadata": {},
     "output_type": "display_data"
    }
   ],
   "source": [
    "prop.table(table(aggrement))"
   ]
  },
  {
   "cell_type": "markdown",
   "id": "da06ef0c",
   "metadata": {},
   "source": [
    "#### Improving model performance"
   ]
  },
  {
   "cell_type": "code",
   "execution_count": 26,
   "id": "85fac811",
   "metadata": {},
   "outputs": [],
   "source": [
    "letter_classifiers_rbf <- ksvm(letter ~ ., data = letters_train, kernel = \"rbfdot\")"
   ]
  },
  {
   "cell_type": "code",
   "execution_count": 27,
   "id": "12ced561",
   "metadata": {},
   "outputs": [
    {
     "data": {
      "text/plain": [
       "Support Vector Machine object of class \"ksvm\" \n",
       "\n",
       "SV type: C-svc  (classification) \n",
       " parameter : cost C = 1 \n",
       "\n",
       "Gaussian Radial Basis kernel function. \n",
       " Hyperparameter : sigma =  0.0470839562047303 \n",
       "\n",
       "Number of Support Vectors : 8685 \n",
       "\n",
       "Objective Function Value : -43.2635 -33.9724 -59.3193 -27.315 -34.7911 -47.0755 -67.2157 -39.3319 -69.0122 -52.595 -45.4389 -60.7888 -64.0508 -49.5829 -34.0387 -47.143 -58.5982 -43.8365 -40.5777 -64.1358 -48.4167 -38.2343 -41.8637 -54.5543 -41.4958 -36.4298 -165.2782 -111.9964 -97.1681 -117.6579 -181.4023 -81.6229 -77.7461 -99.3864 -63.9503 -62.5189 -57.7763 -70.5159 -79.6659 -102.6452 -241.566 -193.0173 -50.5021 -41.1216 -77.6754 -43.843 -102.0928 -40.1513 -61.6842 -34.9417 -144.408 -44.1433 -217.7476 -82.4011 -34.8346 -26.8078 -117.8525 -84.3066 -39.0018 -39.5607 -88.4919 -45.4625 -57.9814 -48.6025 -51.7598 -61.4015 -87.9352 -37.6668 -27.3948 -50.271 -28.1196 -28.6522 -42.291 -74.672 -81.4721 -209.7614 -74.683 -89.6162 -82.8434 -39.4811 -52.4331 -116.2304 -142.0582 -72.5635 -67.8924 -147.1426 -92.5467 -57.6968 -63.9673 -41.4405 -28.6568 -98.957 -36.5942 -60.2981 -82.5049 -175.1973 -103.3342 -72.1996 -54.4632 -142.4625 -118.9824 -39.17 -25.7804 -45.3668 -60.7649 -97.9764 -83.698 -179.6474 -100.9054 -38.8492 -43.4185 -25.0379 -148.0597 -31.5085 -140.4477 -70.4966 -101.2966 -98.695 -87.4534 -51.8607 -38.3571 -32.562 -50.2333 -38.022 -217.3269 -43.716 -56.154 -129.1462 -137.0341 -35.5233 -58.2146 -30.8083 -82.1186 -81.2766 -53.1745 -160.9018 -58.481 -49.1799 -124.292 -118.0581 -66.2544 -52.6467 -153.6633 -89.67 -177.5217 -132.0884 -109.4296 -66.6114 -68.108 -75.3421 -59.1455 -91.5404 -34.608 -42.3493 -63.4325 -86.062 -208.6816 -72.9728 -90.2843 -165.1074 -214.1356 -101.7302 -123.5958 -231.425 -88.6244 -82.6003 -132.0628 -90.6249 -63.3269 -134.0165 -61.7197 -42.6469 -171.6853 -47.9642 -58.9732 -20.0022 -28.5419 -38.0054 -59.3061 -61.4632 -51.0152 -133.5119 -48.123 -24.3738 -23.3714 -14.9253 -127.0894 -30.1836 -77.0727 -47.3064 -48.4971 -27.5644 -41.6995 -54.0227 -52.071 -58.1805 -57.2815 -110.1897 -46.1803 -35.7989 -26.5838 -17.0415 -95.6426 -31.0739 -84.2311 -93.9324 -65.487 -63.1864 -60.0652 -47.7971 -60.4845 -178.7531 -74.3648 -69.1297 -75.5311 -47.6754 -42.7813 -179.0438 -30.1109 -38.3533 -32.284 -34.9604 -45.9427 -49.3923 -87.2035 -77.2215 -94.4857 -50.1301 -37.03 -32.0788 -23.3 -85.6311 -29.8706 -47.1045 -99.1222 -67.9268 -39.691 -40.8238 -75.928 -27.2673 -35.3136 -91.16 -67.4759 -120.4325 -26.3128 -31.6187 -16.0299 -102.731 -52.2419 -41.3207 -89.2166 -30.4863 -41.6776 -93.6719 -68.2131 -75.6764 -40.5187 -46.5886 -21.5898 -76.4188 -194.3955 -95.6816 -54.7406 -47.8003 -95.8549 -57.0309 -80.8411 -73.3614 -28.0023 -28.7143 -64.008 -64.404 -70.1906 -62.2509 -35.1103 -71.591 -47.6182 -47.8759 -71.8544 -27.4796 -85.4213 -102.794 -40.0168 -45.3725 -42.3166 -37.0742 -80.003 -44.7885 -62.3217 -88.7067 -57.6035 -47.5148 -71.6232 -50.0727 -98.4418 -29.6526 -37.4445 -100.6286 -30.7331 -35.2281 -18.7703 -150.9821 -47.3693 -221.5823 -61.2436 -70.6907 -29.7234 -89.544 -160.2445 -74.3082 -63.1536 -72.9222 -48.6766 -51.6819 -20.4588 -109.7035 -33.8037 -182.4471 -18.1642 -20.1893 -41.2286 -10.9688 -46.807 -101.5435 -33.7256 \n",
       "Training error : 0.051875 "
      ]
     },
     "metadata": {},
     "output_type": "display_data"
    }
   ],
   "source": [
    "letter_classifiers_rbf"
   ]
  },
  {
   "cell_type": "code",
   "execution_count": 29,
   "id": "e8ad6044",
   "metadata": {},
   "outputs": [],
   "source": [
    "letter_predictions_rbf = predict(letter_classifiers_rbf, letters_test)"
   ]
  },
  {
   "cell_type": "code",
   "execution_count": 30,
   "id": "15b77683",
   "metadata": {},
   "outputs": [
    {
     "data": {
      "text/html": [
       "<ol class=list-inline>\n",
       "\t<li>U</li>\n",
       "\t<li>N</li>\n",
       "\t<li>V</li>\n",
       "\t<li>I</li>\n",
       "\t<li>N</li>\n",
       "\t<li>H</li>\n",
       "</ol>\n",
       "\n",
       "<details>\n",
       "\t<summary style=display:list-item;cursor:pointer>\n",
       "\t\t<strong>Levels</strong>:\n",
       "\t</summary>\n",
       "\t<ol class=list-inline>\n",
       "\t\t<li>'A'</li>\n",
       "\t\t<li>'B'</li>\n",
       "\t\t<li>'C'</li>\n",
       "\t\t<li>'D'</li>\n",
       "\t\t<li>'E'</li>\n",
       "\t\t<li>'F'</li>\n",
       "\t\t<li>'G'</li>\n",
       "\t\t<li>'H'</li>\n",
       "\t\t<li>'I'</li>\n",
       "\t\t<li>'J'</li>\n",
       "\t\t<li>'K'</li>\n",
       "\t\t<li>'L'</li>\n",
       "\t\t<li>'M'</li>\n",
       "\t\t<li>'N'</li>\n",
       "\t\t<li>'O'</li>\n",
       "\t\t<li>'P'</li>\n",
       "\t\t<li>'Q'</li>\n",
       "\t\t<li>'R'</li>\n",
       "\t\t<li>'S'</li>\n",
       "\t\t<li>'T'</li>\n",
       "\t\t<li>'U'</li>\n",
       "\t\t<li>'V'</li>\n",
       "\t\t<li>'W'</li>\n",
       "\t\t<li>'X'</li>\n",
       "\t\t<li>'Y'</li>\n",
       "\t\t<li>'Z'</li>\n",
       "\t</ol>\n",
       "</details>"
      ],
      "text/latex": [
       "\\begin{enumerate*}\n",
       "\\item U\n",
       "\\item N\n",
       "\\item V\n",
       "\\item I\n",
       "\\item N\n",
       "\\item H\n",
       "\\end{enumerate*}\n",
       "\n",
       "\\emph{Levels}: \\begin{enumerate*}\n",
       "\\item 'A'\n",
       "\\item 'B'\n",
       "\\item 'C'\n",
       "\\item 'D'\n",
       "\\item 'E'\n",
       "\\item 'F'\n",
       "\\item 'G'\n",
       "\\item 'H'\n",
       "\\item 'I'\n",
       "\\item 'J'\n",
       "\\item 'K'\n",
       "\\item 'L'\n",
       "\\item 'M'\n",
       "\\item 'N'\n",
       "\\item 'O'\n",
       "\\item 'P'\n",
       "\\item 'Q'\n",
       "\\item 'R'\n",
       "\\item 'S'\n",
       "\\item 'T'\n",
       "\\item 'U'\n",
       "\\item 'V'\n",
       "\\item 'W'\n",
       "\\item 'X'\n",
       "\\item 'Y'\n",
       "\\item 'Z'\n",
       "\\end{enumerate*}\n"
      ],
      "text/markdown": [
       "1. U\n",
       "2. N\n",
       "3. V\n",
       "4. I\n",
       "5. N\n",
       "6. H\n",
       "\n",
       "\n",
       "\n",
       "**Levels**: 1. 'A'\n",
       "2. 'B'\n",
       "3. 'C'\n",
       "4. 'D'\n",
       "5. 'E'\n",
       "6. 'F'\n",
       "7. 'G'\n",
       "8. 'H'\n",
       "9. 'I'\n",
       "10. 'J'\n",
       "11. 'K'\n",
       "12. 'L'\n",
       "13. 'M'\n",
       "14. 'N'\n",
       "15. 'O'\n",
       "16. 'P'\n",
       "17. 'Q'\n",
       "18. 'R'\n",
       "19. 'S'\n",
       "20. 'T'\n",
       "21. 'U'\n",
       "22. 'V'\n",
       "23. 'W'\n",
       "24. 'X'\n",
       "25. 'Y'\n",
       "26. 'Z'\n",
       "\n",
       "\n"
      ],
      "text/plain": [
       "[1] U N V I N H\n",
       "Levels: A B C D E F G H I J K L M N O P Q R S T U V W X Y Z"
      ]
     },
     "metadata": {},
     "output_type": "display_data"
    }
   ],
   "source": [
    "head(letter_predictions_rbf)"
   ]
  },
  {
   "cell_type": "code",
   "execution_count": 31,
   "id": "ea8a7f94",
   "metadata": {},
   "outputs": [
    {
     "data": {
      "text/plain": [
       "                      \n",
       "letter_predictions_rbf   A   B   C   D   E   F   G   H   I   J   K   L   M   N\n",
       "                     A 151   0   0   0   0   0   0   0   0   0   0   0   0   0\n",
       "                     B   0 128   0   3   0   1   0   2   0   0   0   1   2   1\n",
       "                     C   0   0 132   0   3   0   1   0   2   0   0   1   0   0\n",
       "                     D   1   1   0 161   0   0   2   8   2   3   1   0   0   1\n",
       "                     E   0   0   3   0 137   2   0   0   0   1   0   4   0   0\n",
       "                     F   0   0   0   0   0 148   0   0   3   0   0   0   0   0\n",
       "                     G   0   0   2   0   8   0 154   2   0   0   0   2   2   0\n",
       "                     H   0   1   0   1   0   0   2 125   0   1   2   1   1   3\n",
       "                     I   0   0   0   0   0   0   0   0 151   3   0   0   0   0\n",
       "                     J   0   0   0   0   0   0   0   0   3 136   0   0   0   0\n",
       "                     K   0   0   1   0   0   0   0   5   0   0 132   0   0   1\n",
       "                     L   0   0   0   0   0   0   1   0   0   0   0 141   0   0\n",
       "                     M   0   0   0   0   0   0   1   1   0   0   0   0 138   1\n",
       "                     N   0   0   0   0   0   2   0   0   0   0   0   0   0 150\n",
       "                     O   0   0   2   0   0   0   0   0   0   1   0   0   0   5\n",
       "                     P   0   0   0   0   0   0   0   0   1   0   0   0   0   0\n",
       "                     Q   0   0   0   0   0   0   0   1   0   0   0   0   0   0\n",
       "                     R   0   3   1   1   0   0   2   5   0   0   9   1   0   3\n",
       "                     S   0   2   0   0   0   0   0   0   1   2   0   2   0   0\n",
       "                     T   0   0   0   0   0   0   0   0   0   0   0   0   0   0\n",
       "                     U   0   0   1   1   0   0   0   1   0   0   0   0   0   0\n",
       "                     V   0   0   0   0   0   0   0   0   0   0   0   0   1   1\n",
       "                     W   0   0   0   0   0   0   1   0   0   0   0   0   0   0\n",
       "                     X   0   1   0   0   1   0   0   0   0   0   2   4   0   0\n",
       "                     Y   4   0   0   0   0   0   0   1   0   0   0   0   0   0\n",
       "                     Z   0   0   0   0   3   0   0   0   2   1   0   0   0   0\n",
       "                      \n",
       "letter_predictions_rbf   O   P   Q   R   S   T   U   V   W   X   Y   Z\n",
       "                     A   0   0   3   0   0   1   0   0   0   0   0   0\n",
       "                     B   0   2   1   3   3   0   0   4   1   1   0   0\n",
       "                     C   0   0   0   0   0   0   0   0   0   0   0   0\n",
       "                     D   1   3   1   3   0   2   0   0   0   2   3   0\n",
       "                     E   0   1   0   0   2   1   0   0   0   0   0   2\n",
       "                     F   0  11   0   0   1   0   0   1   0   0   0   0\n",
       "                     G   2   1   0   0   0   2   0   0   0   0   0   0\n",
       "                     H   0   1   1   0   0   2   0   0   0   0   0   0\n",
       "                     I   0   0   0   0   0   0   0   0   0   1   0   0\n",
       "                     J   0   0   0   0   0   0   0   0   0   0   0   3\n",
       "                     K   0   0   0   3   0   0   0   0   0   2   0   0\n",
       "                     L   0   0   0   0   1   0   0   0   0   0   0   0\n",
       "                     M   0   0   0   0   0   0   1   0   2   0   0   0\n",
       "                     N   0   0   0   2   0   0   0   0   1   0   0   0\n",
       "                     O 129   2   4   0   0   0   1   0   0   0   0   0\n",
       "                     P   0 141   0   0   0   0   0   0   0   0   0   0\n",
       "                     Q   3   3 158   0   0   0   0   0   0   0   0   0\n",
       "                     R   2   1   0 150   0   1   0   0   0   0   0   0\n",
       "                     S   0   0   0   0 152   0   0   0   0   0   0   2\n",
       "                     T   0   0   0   0   0 140   0   0   0   0   1   0\n",
       "                     U   0   0   0   0   0   0 161   0   0   0   1   0\n",
       "                     V   0   0   0   0   0   0   2 131   0   0   1   0\n",
       "                     W   2   0   0   0   0   0   3   0 135   0   0   0\n",
       "                     X   0   0   0   0   1   1   0   0   0 153   1   1\n",
       "                     Y   0   2   0   0   0   1   0   0   0   0 138   0\n",
       "                     Z   0   0   0   0   1   0   0   0   0   0   0 150"
      ]
     },
     "metadata": {},
     "output_type": "display_data"
    }
   ],
   "source": [
    "table(letter_predictions_rbf, letters_test$letter)"
   ]
  },
  {
   "cell_type": "code",
   "execution_count": null,
   "id": "7878b51f",
   "metadata": {},
   "outputs": [],
   "source": [
    "table(letter_predictions, letters_test$letter)"
   ]
  },
  {
   "cell_type": "code",
   "execution_count": 32,
   "id": "cc19eb23",
   "metadata": {},
   "outputs": [],
   "source": [
    "aggrement_rbf = letter_predictions_rbf == letters_test$letter"
   ]
  },
  {
   "cell_type": "code",
   "execution_count": 33,
   "id": "419be653",
   "metadata": {},
   "outputs": [
    {
     "data": {
      "text/plain": [
       "aggrement_rbf\n",
       "FALSE  TRUE \n",
       "  278  3722 "
      ]
     },
     "metadata": {},
     "output_type": "display_data"
    }
   ],
   "source": [
    "table(aggrement_rbf)"
   ]
  },
  {
   "cell_type": "code",
   "execution_count": 34,
   "id": "f4ba2ace",
   "metadata": {},
   "outputs": [
    {
     "data": {
      "text/plain": [
       "aggrement_rbf\n",
       " FALSE   TRUE \n",
       "0.0695 0.9305 "
      ]
     },
     "metadata": {},
     "output_type": "display_data"
    }
   ],
   "source": [
    "prop.table(table(aggrement_rbf))"
   ]
  },
  {
   "cell_type": "code",
   "execution_count": null,
   "id": "d6fd9494",
   "metadata": {},
   "outputs": [],
   "source": []
  },
  {
   "cell_type": "code",
   "execution_count": null,
   "id": "2a1df0ae",
   "metadata": {},
   "outputs": [],
   "source": []
  },
  {
   "cell_type": "code",
   "execution_count": null,
   "id": "2c015149",
   "metadata": {},
   "outputs": [],
   "source": []
  }
 ],
 "metadata": {
  "kernelspec": {
   "display_name": "R",
   "language": "R",
   "name": "ir"
  },
  "language_info": {
   "codemirror_mode": "r",
   "file_extension": ".r",
   "mimetype": "text/x-r-source",
   "name": "R",
   "pygments_lexer": "r",
   "version": "3.6.1"
  }
 },
 "nbformat": 4,
 "nbformat_minor": 5
}
